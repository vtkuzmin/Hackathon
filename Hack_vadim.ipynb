{
 "cells": [
  {
   "cell_type": "code",
   "execution_count": 1,
   "metadata": {
    "collapsed": false
   },
   "outputs": [
    {
     "name": "stderr",
     "output_type": "stream",
     "text": [
      "Using TensorFlow backend.\n"
     ]
    }
   ],
   "source": [
    "import math\n",
    "import re\n",
    "import pandas as pd\n",
    "import numpy as np\n",
    "import pymorphy2\n",
    "from collections import Counter\n",
    "import matplotlib.pyplot as plt\n",
    "from sklearn.feature_extraction.text import TfidfVectorizer\n",
    "from sklearn.model_selection import train_test_split\n",
    "import nltk\n",
    "from nltk.tokenize import WhitespaceTokenizer\n",
    "from string import punctuation\n",
    "from nltk.corpus import stopwords\n",
    "from pymorphy2 import MorphAnalyzer\n",
    "#from tqdm import tqdm\n",
    "from scipy.sparse import hstack\n",
    "from sklearn.linear_model import LogisticRegression\n",
    "from sklearn.metrics import f1_score\n",
    "from sklearn.metrics import accuracy_score\n",
    "from sklearn.metrics import roc_auc_score, roc_curve\n",
    "#import xgboost as xgb\n",
    "from keras.preprocessing.text import Tokenizer\n",
    "from keras.preprocessing.sequence import pad_sequences\n",
    "from keras.models import Sequential\n",
    "from keras.layers import Dense, Embedding, LSTM\n",
    "from keras.utils.np_utils import to_categorical\n",
    "\n",
    "%matplotlib inline"
   ]
  },
  {
   "cell_type": "code",
   "execution_count": null,
   "metadata": {
    "collapsed": true
   },
   "outputs": [],
   "source": [
    "df_init = pd.read_csv('X_train.csv').drop(['userName', 'property', 'date'], axis=1)"
   ]
  },
  {
   "cell_type": "code",
   "execution_count": null,
   "metadata": {
    "collapsed": true
   },
   "outputs": [],
   "source": [
    "def merge_com(data):\n",
    "    data = data.copy()\n",
    "    for i in range(data.shape[0]):\n",
    "        data.loc[i, 'com_len'] = len(data.loc[i, 'comment'])\n",
    "        \n",
    "        try:\n",
    "            data.loc[i, 'comPos_len'] = len(data.loc[i, 'commentPositive'])\n",
    "        except TypeError:\n",
    "            data.loc[i, 'comPos_len'] = 0\n",
    "            \n",
    "        try:\n",
    "            data.loc[i, 'comNeg_len'] = len(data.loc[i, 'commentNegative'])\n",
    "        except TypeError:\n",
    "            data.loc[i, 'comNeg_len'] = 0\n",
    "            \n",
    "        data.loc[i, 'nCapital'] = len(re.findall(\"[A-Z]\", data.loc[i, 'comment']))\n",
    "        \n",
    "        try:\n",
    "            data.loc[i, 'nCapitalPos'] = len(re.findall(\"[A-Z]\", data.loc[i, 'commentPositive']))\n",
    "        except TypeError:\n",
    "            data.loc[i, 'nCapitalPos'] = 0\n",
    "            \n",
    "        try:\n",
    "            data.loc[i, 'nCapitalNeg'] = len(re.findall(\"[A-Z]\", data.loc[i, 'commentNegative']))\n",
    "        except TypeError:\n",
    "            data.loc[i, 'nCapitalNeg'] = 0\n",
    "        \n",
    "        try:\n",
    "            if math.isnan(data.commentNegative[i]):\n",
    "                data.loc[i, 'hasNegComment'] = 0\n",
    "        except TypeError:\n",
    "            data.loc[i, 'comment'] = data.loc[i, 'comment'] + ' ' + data.loc[i, 'commentNegative']\n",
    "            data.loc[i, 'hasNegComment'] = 1\n",
    "        \n",
    "        try:\n",
    "            if math.isnan(data.commentPositive[i]):\n",
    "                data.loc[i, 'hasPosComment'] = 0\n",
    "        except TypeError:\n",
    "            data.loc[i, 'comment'] = data.comment[i] + ' ' + data.commentPositive[i]\n",
    "            data.loc[i, 'hasPosComment'] = 1\n",
    "        \n",
    "        data.loc[i, 'n_of_exc'] = data.loc[i, 'comment'].count('!')\n",
    "        # if i%1000==0:\n",
    "        #     print(i)\n",
    "    return data.drop(['commentNegative', 'commentPositive'], axis=1)"
   ]
  },
  {
   "cell_type": "code",
   "execution_count": null,
   "metadata": {
    "collapsed": false
   },
   "outputs": [],
   "source": [
    "%%time\n",
    "df_merged_comments = merge_com(df_init)"
   ]
  },
  {
   "cell_type": "code",
   "execution_count": null,
   "metadata": {
    "collapsed": false
   },
   "outputs": [],
   "source": [
    "morph = MorphAnalyzer()\n",
    "mystopwords = list(set(stopwords.words('russian')) - set(['много','без','никогда' , 'совсем' , 'не', 'нет', 'более','больше',  'ничего', \"но\", \"хорошо\", \"лучше\"])) + ['это',\"х\",\"р\", \"тыс\", \"тыщ\", \"руб\"] \n",
    "\n",
    "def parse_sentence(sent):\n",
    "    sent = sent.replace('...', ' ')\n",
    "    sent = sent.replace('-', ' ')\n",
    "    sent = sent.replace('/', ' ')\n",
    "    exclude = set(punctuation + '0123456789'+u'–—'+u'«»')\n",
    "    merged_text = ''.join(ch for ch in sent if ch not in exclude)\n",
    "    tokens = WhitespaceTokenizer().tokenize(merged_text.lower())\n",
    "    tokens = [t_ for t_ in tokens if t_ not in mystopwords]\n",
    "    tokens = [morph.parse(word)[0].normal_form for word in tokens]\n",
    "    return ' '.join(ch for ch in tokens)"
   ]
  },
  {
   "cell_type": "code",
   "execution_count": null,
   "metadata": {
    "collapsed": false
   },
   "outputs": [],
   "source": [
    "%%time\n",
    "df_merged_comments['parsed'] = df_merged_comments.comment.apply(parse_sentence)"
   ]
  },
  {
   "cell_type": "code",
   "execution_count": null,
   "metadata": {
    "collapsed": true
   },
   "outputs": [],
   "source": [
    "df = df_merged_comments.drop(['comment'], axis=1)"
   ]
  },
  {
   "cell_type": "code",
   "execution_count": null,
   "metadata": {
    "collapsed": true
   },
   "outputs": [],
   "source": [
    "df.reting = df.reting.apply(round)"
   ]
  },
  {
   "cell_type": "code",
   "execution_count": null,
   "metadata": {
    "collapsed": false
   },
   "outputs": [],
   "source": [
    "df.isnull().sum()"
   ]
  },
  {
   "cell_type": "code",
   "execution_count": null,
   "metadata": {
    "collapsed": false
   },
   "outputs": [],
   "source": [
    "df.head()"
   ]
  },
  {
   "cell_type": "code",
   "execution_count": 2,
   "metadata": {
    "collapsed": true
   },
   "outputs": [],
   "source": [
    "data = pd.read_csv('data_parsed.csv')"
   ]
  },
  {
   "cell_type": "code",
   "execution_count": 3,
   "metadata": {
    "collapsed": false
   },
   "outputs": [
    {
     "data": {
      "text/html": [
       "<div>\n",
       "<table border=\"1\" class=\"dataframe\">\n",
       "  <thead>\n",
       "    <tr style=\"text-align: right;\">\n",
       "      <th></th>\n",
       "      <th>sku</th>\n",
       "      <th>categoryLevel1Id</th>\n",
       "      <th>categoryLevel2Id</th>\n",
       "      <th>brandId</th>\n",
       "      <th>reting</th>\n",
       "      <th>comment</th>\n",
       "      <th>com_len</th>\n",
       "      <th>comPos_len</th>\n",
       "      <th>comNeg_len</th>\n",
       "      <th>nCapital</th>\n",
       "      <th>nCapitalPos</th>\n",
       "      <th>nCapitalNeg</th>\n",
       "      <th>hasNegComment</th>\n",
       "      <th>hasPosComment</th>\n",
       "      <th>n_of_exc</th>\n",
       "      <th>parsed</th>\n",
       "    </tr>\n",
       "  </thead>\n",
       "  <tbody>\n",
       "    <tr>\n",
       "      <th>0</th>\n",
       "      <td>20005023</td>\n",
       "      <td>401</td>\n",
       "      <td>4010201</td>\n",
       "      <td>826</td>\n",
       "      <td>2.0</td>\n",
       "      <td>2,5 года работала и все...устала! Лампочка гор...</td>\n",
       "      <td>65.0</td>\n",
       "      <td>0.0</td>\n",
       "      <td>0.0</td>\n",
       "      <td>0.0</td>\n",
       "      <td>0.0</td>\n",
       "      <td>0.0</td>\n",
       "      <td>0.0</td>\n",
       "      <td>0.0</td>\n",
       "      <td>2.0</td>\n",
       "      <td>год работать устать лампочка гореть большой ничто</td>\n",
       "    </tr>\n",
       "    <tr>\n",
       "      <th>1</th>\n",
       "      <td>20020647</td>\n",
       "      <td>403</td>\n",
       "      <td>4030101</td>\n",
       "      <td>1425</td>\n",
       "      <td>2.0</td>\n",
       "      <td>Через 2 месяца после истечении гарантийного ср...</td>\n",
       "      <td>1042.0</td>\n",
       "      <td>0.0</td>\n",
       "      <td>0.0</td>\n",
       "      <td>0.0</td>\n",
       "      <td>0.0</td>\n",
       "      <td>0.0</td>\n",
       "      <td>0.0</td>\n",
       "      <td>0.0</td>\n",
       "      <td>5.0</td>\n",
       "      <td>месяц истечение гарантийный срок машинка навер...</td>\n",
       "    </tr>\n",
       "    <tr>\n",
       "      <th>2</th>\n",
       "      <td>20020701</td>\n",
       "      <td>401</td>\n",
       "      <td>4010401</td>\n",
       "      <td>124</td>\n",
       "      <td>4.0</td>\n",
       "      <td>пользуюсь уже три недели. нареканий ни каких н...</td>\n",
       "      <td>723.0</td>\n",
       "      <td>0.0</td>\n",
       "      <td>0.0</td>\n",
       "      <td>0.0</td>\n",
       "      <td>0.0</td>\n",
       "      <td>0.0</td>\n",
       "      <td>0.0</td>\n",
       "      <td>0.0</td>\n",
       "      <td>0.0</td>\n",
       "      <td>пользоваться неделя нарекание какой не положит...</td>\n",
       "    </tr>\n",
       "    <tr>\n",
       "      <th>3</th>\n",
       "      <td>30012256</td>\n",
       "      <td>203</td>\n",
       "      <td>2030301</td>\n",
       "      <td>93</td>\n",
       "      <td>5.0</td>\n",
       "      <td>Ребят этот системный блок подойдёт для игры кс...</td>\n",
       "      <td>71.0</td>\n",
       "      <td>0.0</td>\n",
       "      <td>0.0</td>\n",
       "      <td>0.0</td>\n",
       "      <td>0.0</td>\n",
       "      <td>0.0</td>\n",
       "      <td>0.0</td>\n",
       "      <td>0.0</td>\n",
       "      <td>0.0</td>\n",
       "      <td>ребята системный блок подойти игра кс го средн...</td>\n",
       "    </tr>\n",
       "    <tr>\n",
       "      <th>4</th>\n",
       "      <td>30011341</td>\n",
       "      <td>205</td>\n",
       "      <td>2050201</td>\n",
       "      <td>656</td>\n",
       "      <td>5.0</td>\n",
       "      <td>я считаю, что яри замечательный телефон! Прият...</td>\n",
       "      <td>261.0</td>\n",
       "      <td>0.0</td>\n",
       "      <td>0.0</td>\n",
       "      <td>0.0</td>\n",
       "      <td>0.0</td>\n",
       "      <td>0.0</td>\n",
       "      <td>0.0</td>\n",
       "      <td>0.0</td>\n",
       "      <td>12.0</td>\n",
       "      <td>считать ярь замечательный телефон приятно держ...</td>\n",
       "    </tr>\n",
       "  </tbody>\n",
       "</table>\n",
       "</div>"
      ],
      "text/plain": [
       "        sku  categoryLevel1Id  categoryLevel2Id  brandId  reting  \\\n",
       "0  20005023               401           4010201      826     2.0   \n",
       "1  20020647               403           4030101     1425     2.0   \n",
       "2  20020701               401           4010401      124     4.0   \n",
       "3  30012256               203           2030301       93     5.0   \n",
       "4  30011341               205           2050201      656     5.0   \n",
       "\n",
       "                                             comment  com_len  comPos_len  \\\n",
       "0  2,5 года работала и все...устала! Лампочка гор...     65.0         0.0   \n",
       "1  Через 2 месяца после истечении гарантийного ср...   1042.0         0.0   \n",
       "2  пользуюсь уже три недели. нареканий ни каких н...    723.0         0.0   \n",
       "3  Ребят этот системный блок подойдёт для игры кс...     71.0         0.0   \n",
       "4  я считаю, что яри замечательный телефон! Прият...    261.0         0.0   \n",
       "\n",
       "   comNeg_len  nCapital  nCapitalPos  nCapitalNeg  hasNegComment  \\\n",
       "0         0.0       0.0          0.0          0.0            0.0   \n",
       "1         0.0       0.0          0.0          0.0            0.0   \n",
       "2         0.0       0.0          0.0          0.0            0.0   \n",
       "3         0.0       0.0          0.0          0.0            0.0   \n",
       "4         0.0       0.0          0.0          0.0            0.0   \n",
       "\n",
       "   hasPosComment  n_of_exc                                             parsed  \n",
       "0            0.0       2.0  год работать устать лампочка гореть большой ничто  \n",
       "1            0.0       5.0  месяц истечение гарантийный срок машинка навер...  \n",
       "2            0.0       0.0  пользоваться неделя нарекание какой не положит...  \n",
       "3            0.0       0.0  ребята системный блок подойти игра кс го средн...  \n",
       "4            0.0      12.0  считать ярь замечательный телефон приятно держ...  "
      ]
     },
     "execution_count": 3,
     "metadata": {},
     "output_type": "execute_result"
    }
   ],
   "source": [
    "data.head()"
   ]
  },
  {
   "cell_type": "code",
   "execution_count": null,
   "metadata": {
    "collapsed": true
   },
   "outputs": [],
   "source": []
  },
  {
   "cell_type": "code",
   "execution_count": null,
   "metadata": {
    "collapsed": false
   },
   "outputs": [],
   "source": [
    "df.reting.value_counts()"
   ]
  },
  {
   "cell_type": "code",
   "execution_count": null,
   "metadata": {
    "collapsed": true
   },
   "outputs": [],
   "source": [
    "from sklearn.feature_extraction.text import TfidfVectorizer\n",
    "from sklearn.linear_model import LogisticRegression\n",
    "from sklearn.model_selection import cross_val_score\n",
    "from sklearn.svm import SVC"
   ]
  },
  {
   "cell_type": "code",
   "execution_count": null,
   "metadata": {
    "collapsed": false
   },
   "outputs": [],
   "source": [
    "a = [[]]"
   ]
  },
  {
   "cell_type": "code",
   "execution_count": null,
   "metadata": {
    "collapsed": false
   },
   "outputs": [],
   "source": [
    "type(a)"
   ]
  },
  {
   "cell_type": "code",
   "execution_count": null,
   "metadata": {
    "collapsed": false
   },
   "outputs": [],
   "source": [
    "X_train, X_test, y_train, y_test = train_test_split(df.drop(['reting'], axis=1), \n",
    "                                                    df['reting'], test_size=0.33)"
   ]
  },
  {
   "cell_type": "code",
   "execution_count": null,
   "metadata": {
    "collapsed": false
   },
   "outputs": [],
   "source": [
    "tfidf = TfidfVectorizer(analyzer = 'word', \n",
    "                        lowercase= False, \n",
    "                        ngram_range=(1,3), \n",
    "                        min_df=5,\n",
    "                        max_features = 2000).fit(X_train['parsed'])"
   ]
  },
  {
   "cell_type": "code",
   "execution_count": null,
   "metadata": {
    "collapsed": true
   },
   "outputs": [],
   "source": [
    "tfidf_train = tfidf.transform(X_train['parsed'])\n",
    "tfidf_test = tfidf.transform(X_test['parsed'])"
   ]
  },
  {
   "cell_type": "code",
   "execution_count": null,
   "metadata": {
    "collapsed": false
   },
   "outputs": [],
   "source": [
    "add_train = np.array(X_train[['com_len', 'comPos_len', 'comNeg_len','brandId', 'nCapital', 'hasNegComment', 'hasPosComment', 'n_of_exc']])\n",
    "add_test = np.array(X_test[['com_len', 'comPos_len', 'comNeg_len','brandId', 'nCapital', 'hasNegComment', 'hasPosComment', 'n_of_exc']])"
   ]
  },
  {
   "cell_type": "code",
   "execution_count": null,
   "metadata": {
    "collapsed": false
   },
   "outputs": [],
   "source": [
    "X_train_tfidf = np.hstack([tfidf_train.todense(),add_train])\n",
    "X_test_tfidf = np.hstack([tfidf_test.todense(),add_test])"
   ]
  },
  {
   "cell_type": "code",
   "execution_count": null,
   "metadata": {
    "collapsed": true
   },
   "outputs": [],
   "source": [
    "from sklearn import preprocessing"
   ]
  },
  {
   "cell_type": "code",
   "execution_count": null,
   "metadata": {
    "collapsed": true
   },
   "outputs": [],
   "source": [
    "scaler = preprocessing.StandardScaler().fit(X_train_tfidf)"
   ]
  },
  {
   "cell_type": "code",
   "execution_count": null,
   "metadata": {
    "collapsed": true
   },
   "outputs": [],
   "source": [
    "X_train_tfidf = scaler.transform(X_train_tfidf)\n",
    "X_test_tfidf = scaler.transform(X_test_tfidf)"
   ]
  },
  {
   "cell_type": "code",
   "execution_count": null,
   "metadata": {
    "collapsed": true
   },
   "outputs": [],
   "source": [
    "clf = SVC(C = 1.0, kernel = 'linear').fit(X_train_tfidf, np.array(y_train))"
   ]
  },
  {
   "cell_type": "code",
   "execution_count": null,
   "metadata": {
    "collapsed": true
   },
   "outputs": [],
   "source": [
    "clf.score(X_test_tfidf, np.array(y_test))"
   ]
  },
  {
   "cell_type": "code",
   "execution_count": null,
   "metadata": {
    "collapsed": true
   },
   "outputs": [],
   "source": []
  },
  {
   "cell_type": "code",
   "execution_count": null,
   "metadata": {
    "collapsed": true
   },
   "outputs": [],
   "source": [
    "scores = cross_val_score(clf, tfidf_features, list(newdf['reting']), cv=5)"
   ]
  },
  {
   "cell_type": "code",
   "execution_count": null,
   "metadata": {
    "collapsed": true
   },
   "outputs": [],
   "source": []
  },
  {
   "cell_type": "code",
   "execution_count": null,
   "metadata": {
    "collapsed": true
   },
   "outputs": [],
   "source": [
    "neg = df[df.reting < 2]\n",
    "pos = df[df.reting > 3]"
   ]
  },
  {
   "cell_type": "code",
   "execution_count": null,
   "metadata": {
    "collapsed": false
   },
   "outputs": [],
   "source": [
    "list(neg['parsed'])[0].split(' ')[0]"
   ]
  },
  {
   "cell_type": "code",
   "execution_count": null,
   "metadata": {
    "collapsed": true
   },
   "outputs": [],
   "source": [
    "def top_words(data, n = 40): \n",
    "    al = []\n",
    "    for a in data:\n",
    "        for word in a.split():\n",
    "            al.append(word)\n",
    "    return Counter(al).most_common(n)"
   ]
  },
  {
   "cell_type": "code",
   "execution_count": null,
   "metadata": {
    "collapsed": false
   },
   "outputs": [],
   "source": [
    "top_words(pos['parsed'])"
   ]
  },
  {
   "cell_type": "code",
   "execution_count": null,
   "metadata": {
    "collapsed": false
   },
   "outputs": [],
   "source": [
    "print(top_words(neg['parsed']), '\\n\\n', top_words(pos['parsed']))"
   ]
  },
  {
   "cell_type": "code",
   "execution_count": null,
   "metadata": {
    "collapsed": true
   },
   "outputs": [],
   "source": [
    "def top_collocations(data, n = 30):\n",
    "    al = []\n",
    "    for a in data:\n",
    "        loc = a.strip().split(' ')\n",
    "        for ii in range(len(loc) - 1):\n",
    "            al.append((loc[ii], loc[ii+1]))\n",
    "    return Counter(al).most_common(n)"
   ]
  },
  {
   "cell_type": "code",
   "execution_count": null,
   "metadata": {
    "collapsed": false
   },
   "outputs": [],
   "source": [
    "top_collocations(pos['parsed'])"
   ]
  },
  {
   "cell_type": "code",
   "execution_count": null,
   "metadata": {
    "collapsed": false
   },
   "outputs": [],
   "source": [
    "top_collocations(neg['parsed'])"
   ]
  },
  {
   "cell_type": "code",
   "execution_count": null,
   "metadata": {
    "collapsed": false
   },
   "outputs": [],
   "source": [
    "top_collocations(neg['parsed'])"
   ]
  },
  {
   "cell_type": "code",
   "execution_count": null,
   "metadata": {
    "collapsed": false
   },
   "outputs": [],
   "source": [
    "sr = df[df.reting == 3]\n",
    "top_collocations(sr['parsed'])"
   ]
  },
  {
   "cell_type": "code",
   "execution_count": null,
   "metadata": {
    "collapsed": true
   },
   "outputs": [],
   "source": [
    "def top_trigramms(data, n = 30):\n",
    "    al = []\n",
    "    dic = []\n",
    "    for a in data:\n",
    "        loc = a.strip().split(' ')\n",
    "        for ii in range(len(loc) - 2):\n",
    "            al.append((loc[ii], loc[ii+1], loc[ii+2]))\n",
    "    return Counter(al).most_common(n)"
   ]
  },
  {
   "cell_type": "code",
   "execution_count": null,
   "metadata": {
    "collapsed": false
   },
   "outputs": [],
   "source": [
    "top_trigramms(pos['parsed'], n = len(pos['parsed']))"
   ]
  },
  {
   "cell_type": "code",
   "execution_count": null,
   "metadata": {
    "collapsed": false
   },
   "outputs": [],
   "source": [
    "top_trigramms(neg['parsed'])"
   ]
  },
  {
   "cell_type": "code",
   "execution_count": null,
   "metadata": {
    "collapsed": false
   },
   "outputs": [],
   "source": [
    "lenn = pd.Series(lenn, name = 'len')"
   ]
  },
  {
   "cell_type": "code",
   "execution_count": null,
   "metadata": {
    "collapsed": true
   },
   "outputs": [],
   "source": [
    "ndf = pd.concat([df, lenn], axis = 1)"
   ]
  },
  {
   "cell_type": "code",
   "execution_count": null,
   "metadata": {
    "collapsed": true
   },
   "outputs": [],
   "source": [
    "import seaborn as sns"
   ]
  },
  {
   "cell_type": "code",
   "execution_count": null,
   "metadata": {
    "collapsed": false,
    "scrolled": true
   },
   "outputs": [],
   "source": [
    "sns.lmplot('reting', 'len', ndf)"
   ]
  },
  {
   "cell_type": "code",
   "execution_count": null,
   "metadata": {
    "collapsed": false,
    "scrolled": true
   },
   "outputs": [],
   "source": [
    "ndf.corr()"
   ]
  },
  {
   "cell_type": "code",
   "execution_count": null,
   "metadata": {
    "collapsed": true
   },
   "outputs": [],
   "source": [
    "keep = {'reting': [1.0, 2.0, 3.0, 4.0, 5.0]}\n",
    "\n",
    "newdf = df[df[list(keep)].isin(keep).all(axis=1)]"
   ]
  },
  {
   "cell_type": "code",
   "execution_count": null,
   "metadata": {
    "collapsed": false
   },
   "outputs": [],
   "source": [
    "newdf = newdf.dropna()"
   ]
  },
  {
   "cell_type": "code",
   "execution_count": null,
   "metadata": {
    "collapsed": false
   },
   "outputs": [],
   "source": [
    "tfidf = TfidfVectorizer(min_df=5, ngram_range=(1,3)).fit(newdf['parsed'])"
   ]
  },
  {
   "cell_type": "code",
   "execution_count": null,
   "metadata": {
    "collapsed": true
   },
   "outputs": [],
   "source": [
    "tfidf_features = tfidf.transform(newdf['parsed'])"
   ]
  },
  {
   "cell_type": "code",
   "execution_count": null,
   "metadata": {
    "collapsed": true
   },
   "outputs": [],
   "source": [
    "lr = LogisticRegression().fit(tfidf_features, list(newdf['reting']))"
   ]
  },
  {
   "cell_type": "code",
   "execution_count": null,
   "metadata": {
    "collapsed": true
   },
   "outputs": [],
   "source": []
  },
  {
   "cell_type": "code",
   "execution_count": null,
   "metadata": {
    "collapsed": true
   },
   "outputs": [],
   "source": [
    "clf = SVC(C = 1.0, kernel = 'linear')\n",
    "scores = cross_val_score(clf, tfidf_features, list(newdf['reting']), cv=5)"
   ]
  },
  {
   "cell_type": "code",
   "execution_count": null,
   "metadata": {
    "collapsed": false
   },
   "outputs": [],
   "source": [
    "scores.mean()"
   ]
  },
  {
   "cell_type": "code",
   "execution_count": null,
   "metadata": {
    "collapsed": true
   },
   "outputs": [],
   "source": []
  }
 ],
 "metadata": {
  "kernelspec": {
   "display_name": "Python 3",
   "language": "python",
   "name": "python3"
  },
  "language_info": {
   "codemirror_mode": {
    "name": "ipython",
    "version": 3
   },
   "file_extension": ".py",
   "mimetype": "text/x-python",
   "name": "python",
   "nbconvert_exporter": "python",
   "pygments_lexer": "ipython3",
   "version": "3.6.0"
  }
 },
 "nbformat": 4,
 "nbformat_minor": 2
}
