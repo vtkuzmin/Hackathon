{
 "cells": [
  {
   "cell_type": "code",
   "execution_count": 3,
   "metadata": {
    "collapsed": false
   },
   "outputs": [
    {
     "name": "stderr",
     "output_type": "stream",
     "text": [
      "Using TensorFlow backend.\n"
     ]
    }
   ],
   "source": [
    "import math\n",
    "import re\n",
    "import pandas as pd\n",
    "import numpy as np\n",
    "import matplotlib.pyplot as plt\n",
    "from sklearn.feature_extraction.text import TfidfVectorizer\n",
    "from sklearn.model_selection import train_test_split\n",
    "import nltk\n",
    "from nltk.tokenize import WhitespaceTokenizer\n",
    "from string import punctuation\n",
    "from nltk.corpus import stopwords\n",
    "from pymorphy2 import MorphAnalyzer\n",
    "#from tqdm import tqdm\n",
    "from scipy.sparse import hstack\n",
    "from sklearn.linear_model import LogisticRegression\n",
    "from sklearn.metrics import f1_score\n",
    "from sklearn.metrics import accuracy_score\n",
    "from sklearn.metrics import roc_auc_score, roc_curve\n",
    "#import xgboost as xgb\n",
    "from keras.preprocessing.text import Tokenizer\n",
    "from keras.preprocessing.sequence import pad_sequences\n",
    "from keras.models import Sequential\n",
    "from keras.layers import Dense, Embedding, LSTM\n",
    "from keras.utils.np_utils import to_categorical\n",
    "\n",
    "%matplotlib inline"
   ]
  },
  {
   "cell_type": "code",
   "execution_count": 115,
   "metadata": {
    "collapsed": false
   },
   "outputs": [],
   "source": [
    "df_init = pd.read_csv('X_train.csv').drop(['userName', 'property', 'date'], axis=1)"
   ]
  },
  {
   "cell_type": "code",
   "execution_count": 116,
   "metadata": {
    "collapsed": false
   },
   "outputs": [
    {
     "data": {
      "text/html": [
       "<div>\n",
       "<table border=\"1\" class=\"dataframe\">\n",
       "  <thead>\n",
       "    <tr style=\"text-align: right;\">\n",
       "      <th></th>\n",
       "      <th>sku</th>\n",
       "      <th>categoryLevel1Id</th>\n",
       "      <th>categoryLevel2Id</th>\n",
       "      <th>brandId</th>\n",
       "      <th>reting</th>\n",
       "      <th>comment</th>\n",
       "      <th>commentNegative</th>\n",
       "      <th>commentPositive</th>\n",
       "    </tr>\n",
       "  </thead>\n",
       "  <tbody>\n",
       "    <tr>\n",
       "      <th>0</th>\n",
       "      <td>20005023</td>\n",
       "      <td>401</td>\n",
       "      <td>4010201</td>\n",
       "      <td>826</td>\n",
       "      <td>2.0</td>\n",
       "      <td>2,5 года работала и все...устала! Лампочка гор...</td>\n",
       "      <td>NaN</td>\n",
       "      <td>NaN</td>\n",
       "    </tr>\n",
       "    <tr>\n",
       "      <th>1</th>\n",
       "      <td>20020647</td>\n",
       "      <td>403</td>\n",
       "      <td>4030101</td>\n",
       "      <td>1425</td>\n",
       "      <td>2.0</td>\n",
       "      <td>Через 2 месяца после истечении гарантийного ср...</td>\n",
       "      <td>NaN</td>\n",
       "      <td>NaN</td>\n",
       "    </tr>\n",
       "    <tr>\n",
       "      <th>2</th>\n",
       "      <td>20020701</td>\n",
       "      <td>401</td>\n",
       "      <td>4010401</td>\n",
       "      <td>124</td>\n",
       "      <td>4.0</td>\n",
       "      <td>пользуюсь уже три недели. нареканий ни каких н...</td>\n",
       "      <td>NaN</td>\n",
       "      <td>NaN</td>\n",
       "    </tr>\n",
       "    <tr>\n",
       "      <th>3</th>\n",
       "      <td>30012256</td>\n",
       "      <td>203</td>\n",
       "      <td>2030301</td>\n",
       "      <td>93</td>\n",
       "      <td>5.0</td>\n",
       "      <td>Ребят этот системный блок подойдёт для игры кс...</td>\n",
       "      <td>NaN</td>\n",
       "      <td>NaN</td>\n",
       "    </tr>\n",
       "    <tr>\n",
       "      <th>4</th>\n",
       "      <td>30011341</td>\n",
       "      <td>205</td>\n",
       "      <td>2050201</td>\n",
       "      <td>656</td>\n",
       "      <td>5.0</td>\n",
       "      <td>я считаю, что яри замечательный телефон! Прият...</td>\n",
       "      <td>NaN</td>\n",
       "      <td>NaN</td>\n",
       "    </tr>\n",
       "  </tbody>\n",
       "</table>\n",
       "</div>"
      ],
      "text/plain": [
       "        sku  categoryLevel1Id  categoryLevel2Id  brandId  reting  \\\n",
       "0  20005023               401           4010201      826     2.0   \n",
       "1  20020647               403           4030101     1425     2.0   \n",
       "2  20020701               401           4010401      124     4.0   \n",
       "3  30012256               203           2030301       93     5.0   \n",
       "4  30011341               205           2050201      656     5.0   \n",
       "\n",
       "                                             comment commentNegative  \\\n",
       "0  2,5 года работала и все...устала! Лампочка гор...             NaN   \n",
       "1  Через 2 месяца после истечении гарантийного ср...             NaN   \n",
       "2  пользуюсь уже три недели. нареканий ни каких н...             NaN   \n",
       "3  Ребят этот системный блок подойдёт для игры кс...             NaN   \n",
       "4  я считаю, что яри замечательный телефон! Прият...             NaN   \n",
       "\n",
       "  commentPositive  \n",
       "0             NaN  \n",
       "1             NaN  \n",
       "2             NaN  \n",
       "3             NaN  \n",
       "4             NaN  "
      ]
     },
     "execution_count": 116,
     "metadata": {},
     "output_type": "execute_result"
    }
   ],
   "source": [
    "df_init.head()"
   ]
  },
  {
   "cell_type": "code",
   "execution_count": 117,
   "metadata": {
    "collapsed": false
   },
   "outputs": [
    {
     "data": {
      "text/plain": [
       "[]"
      ]
     },
     "execution_count": 117,
     "metadata": {},
     "output_type": "execute_result"
    }
   ],
   "source": [
    "re.findall(\"[A-Z]\", '123')"
   ]
  },
  {
   "cell_type": "code",
   "execution_count": 118,
   "metadata": {
    "collapsed": true
   },
   "outputs": [],
   "source": [
    "def merge_com(data):\n",
    "    data = data.copy()\n",
    "    for i in range(data.shape[0]):\n",
    "        data.loc[i, 'com_len'] = len(data.loc[i, 'comment'])\n",
    "        \n",
    "        try:\n",
    "            data.loc[i, 'comPos_len'] = len(data.loc[i, 'commentPositive'])\n",
    "        except TypeError:\n",
    "            data.loc[i, 'comPos_len'] = 0\n",
    "            \n",
    "        try:\n",
    "            data.loc[i, 'comNeg_len'] = len(data.loc[i, 'commentNegative'])\n",
    "        except TypeError:\n",
    "            data.loc[i, 'comNeg_len'] = 0\n",
    "            \n",
    "        data.loc[i, 'nCapital'] = len(re.findall(\"[A-Z]\", data.loc[i, 'comment']))\n",
    "        \n",
    "        try:\n",
    "            data.loc[i, 'nCapitalPos'] = len(re.findall(\"[A-Z]\", data.loc[i, 'commentPositive']))\n",
    "        except TypeError:\n",
    "            data.loc[i, 'nCapitalPos'] = 0\n",
    "            \n",
    "        try:\n",
    "            data.loc[i, 'nCapitalNeg'] = len(re.findall(\"[A-Z]\", data.loc[i, 'commentNegative']))\n",
    "        except TypeError:\n",
    "            data.loc[i, 'nCapitalNeg'] = 0\n",
    "        \n",
    "        try:\n",
    "            if math.isnan(data.commentNegative[i]):\n",
    "                data.loc[i, 'hasNegComment'] = 0\n",
    "        except TypeError:\n",
    "            data.loc[i, 'comment'] = data.loc[i, 'comment'] + ' ' + data.loc[i, 'commentNegative']\n",
    "            data.loc[i, 'hasNegComment'] = 1\n",
    "        \n",
    "        try:\n",
    "            if math.isnan(data.commentPositive[i]):\n",
    "                data.loc[i, 'hasPosComment'] = 0\n",
    "        except TypeError:\n",
    "            data.loc[i, 'comment'] = data.comment[i] + ' ' + data.commentPositive[i]\n",
    "            data.loc[i, 'hasPosComment'] = 1\n",
    "        \n",
    "        data.loc[i, 'n_of_exc'] = data.loc[i, 'comment'].count('!')\n",
    "        # if i%1000==0:\n",
    "        #     print(i)\n",
    "    return data.drop(['commentNegative', 'commentPositive'], axis=1)"
   ]
  },
  {
   "cell_type": "code",
   "execution_count": 119,
   "metadata": {
    "collapsed": false
   },
   "outputs": [
    {
     "name": "stdout",
     "output_type": "stream",
     "text": [
      "CPU times: user 1min 24s, sys: 920 ms, total: 1min 25s\n",
      "Wall time: 1min 33s\n"
     ]
    }
   ],
   "source": [
    "%%time\n",
    "df_merged_comments = merge_com(df_init)"
   ]
  },
  {
   "cell_type": "code",
   "execution_count": 120,
   "metadata": {
    "collapsed": false
   },
   "outputs": [
    {
     "data": {
      "text/html": [
       "<div>\n",
       "<table border=\"1\" class=\"dataframe\">\n",
       "  <thead>\n",
       "    <tr style=\"text-align: right;\">\n",
       "      <th></th>\n",
       "      <th>sku</th>\n",
       "      <th>categoryLevel1Id</th>\n",
       "      <th>categoryLevel2Id</th>\n",
       "      <th>brandId</th>\n",
       "      <th>reting</th>\n",
       "      <th>comment</th>\n",
       "      <th>com_len</th>\n",
       "      <th>comPos_len</th>\n",
       "      <th>comNeg_len</th>\n",
       "      <th>nCapital</th>\n",
       "      <th>nCapitalPos</th>\n",
       "      <th>nCapitalNeg</th>\n",
       "      <th>hasNegComment</th>\n",
       "      <th>hasPosComment</th>\n",
       "      <th>n_of_exc</th>\n",
       "    </tr>\n",
       "  </thead>\n",
       "  <tbody>\n",
       "    <tr>\n",
       "      <th>0</th>\n",
       "      <td>20005023</td>\n",
       "      <td>401</td>\n",
       "      <td>4010201</td>\n",
       "      <td>826</td>\n",
       "      <td>2.0</td>\n",
       "      <td>2,5 года работала и все...устала! Лампочка гор...</td>\n",
       "      <td>65.0</td>\n",
       "      <td>0.0</td>\n",
       "      <td>0.0</td>\n",
       "      <td>0.0</td>\n",
       "      <td>0.0</td>\n",
       "      <td>0.0</td>\n",
       "      <td>0.0</td>\n",
       "      <td>0.0</td>\n",
       "      <td>2.0</td>\n",
       "    </tr>\n",
       "    <tr>\n",
       "      <th>1</th>\n",
       "      <td>20020647</td>\n",
       "      <td>403</td>\n",
       "      <td>4030101</td>\n",
       "      <td>1425</td>\n",
       "      <td>2.0</td>\n",
       "      <td>Через 2 месяца после истечении гарантийного ср...</td>\n",
       "      <td>1042.0</td>\n",
       "      <td>0.0</td>\n",
       "      <td>0.0</td>\n",
       "      <td>0.0</td>\n",
       "      <td>0.0</td>\n",
       "      <td>0.0</td>\n",
       "      <td>0.0</td>\n",
       "      <td>0.0</td>\n",
       "      <td>5.0</td>\n",
       "    </tr>\n",
       "    <tr>\n",
       "      <th>2</th>\n",
       "      <td>20020701</td>\n",
       "      <td>401</td>\n",
       "      <td>4010401</td>\n",
       "      <td>124</td>\n",
       "      <td>4.0</td>\n",
       "      <td>пользуюсь уже три недели. нареканий ни каких н...</td>\n",
       "      <td>723.0</td>\n",
       "      <td>0.0</td>\n",
       "      <td>0.0</td>\n",
       "      <td>0.0</td>\n",
       "      <td>0.0</td>\n",
       "      <td>0.0</td>\n",
       "      <td>0.0</td>\n",
       "      <td>0.0</td>\n",
       "      <td>0.0</td>\n",
       "    </tr>\n",
       "    <tr>\n",
       "      <th>3</th>\n",
       "      <td>30012256</td>\n",
       "      <td>203</td>\n",
       "      <td>2030301</td>\n",
       "      <td>93</td>\n",
       "      <td>5.0</td>\n",
       "      <td>Ребят этот системный блок подойдёт для игры кс...</td>\n",
       "      <td>71.0</td>\n",
       "      <td>0.0</td>\n",
       "      <td>0.0</td>\n",
       "      <td>0.0</td>\n",
       "      <td>0.0</td>\n",
       "      <td>0.0</td>\n",
       "      <td>0.0</td>\n",
       "      <td>0.0</td>\n",
       "      <td>0.0</td>\n",
       "    </tr>\n",
       "    <tr>\n",
       "      <th>4</th>\n",
       "      <td>30011341</td>\n",
       "      <td>205</td>\n",
       "      <td>2050201</td>\n",
       "      <td>656</td>\n",
       "      <td>5.0</td>\n",
       "      <td>я считаю, что яри замечательный телефон! Прият...</td>\n",
       "      <td>261.0</td>\n",
       "      <td>0.0</td>\n",
       "      <td>0.0</td>\n",
       "      <td>0.0</td>\n",
       "      <td>0.0</td>\n",
       "      <td>0.0</td>\n",
       "      <td>0.0</td>\n",
       "      <td>0.0</td>\n",
       "      <td>12.0</td>\n",
       "    </tr>\n",
       "  </tbody>\n",
       "</table>\n",
       "</div>"
      ],
      "text/plain": [
       "        sku  categoryLevel1Id  categoryLevel2Id  brandId  reting  \\\n",
       "0  20005023               401           4010201      826     2.0   \n",
       "1  20020647               403           4030101     1425     2.0   \n",
       "2  20020701               401           4010401      124     4.0   \n",
       "3  30012256               203           2030301       93     5.0   \n",
       "4  30011341               205           2050201      656     5.0   \n",
       "\n",
       "                                             comment  com_len  comPos_len  \\\n",
       "0  2,5 года работала и все...устала! Лампочка гор...     65.0         0.0   \n",
       "1  Через 2 месяца после истечении гарантийного ср...   1042.0         0.0   \n",
       "2  пользуюсь уже три недели. нареканий ни каких н...    723.0         0.0   \n",
       "3  Ребят этот системный блок подойдёт для игры кс...     71.0         0.0   \n",
       "4  я считаю, что яри замечательный телефон! Прият...    261.0         0.0   \n",
       "\n",
       "   comNeg_len  nCapital  nCapitalPos  nCapitalNeg  hasNegComment  \\\n",
       "0         0.0       0.0          0.0          0.0            0.0   \n",
       "1         0.0       0.0          0.0          0.0            0.0   \n",
       "2         0.0       0.0          0.0          0.0            0.0   \n",
       "3         0.0       0.0          0.0          0.0            0.0   \n",
       "4         0.0       0.0          0.0          0.0            0.0   \n",
       "\n",
       "   hasPosComment  n_of_exc  \n",
       "0            0.0       2.0  \n",
       "1            0.0       5.0  \n",
       "2            0.0       0.0  \n",
       "3            0.0       0.0  \n",
       "4            0.0      12.0  "
      ]
     },
     "execution_count": 120,
     "metadata": {},
     "output_type": "execute_result"
    }
   ],
   "source": [
    "df_merged_comments.head()"
   ]
  },
  {
   "cell_type": "code",
   "execution_count": 121,
   "metadata": {
    "collapsed": false
   },
   "outputs": [],
   "source": [
    "morph = MorphAnalyzer()\n",
    "mystopwords = list(set(stopwords.words('russian')) - set(['много','без','никогда' , 'совсем' , 'не', 'нет', 'более','больше',  'ничего', \"но\", \"хорошо\", \"лучше\"])) + [\"х\",\"р\", \"тыс\", \"тыщ\", \"руб\"] \n",
    "\n",
    "def parse_sentence(sent):\n",
    "    sent = sent.replace('...', ' ')\n",
    "    sent = sent.replace('-', ' ')\n",
    "    sent = sent.replace('/', ' ')\n",
    "    exclude = set(punctuation + '0123456789'+u'–—'+u'«»')\n",
    "    merged_text = ''.join(ch for ch in sent if ch not in exclude)\n",
    "    tokens = WhitespaceTokenizer().tokenize(merged_text.lower())\n",
    "    tokens = [t_ for t_ in tokens if t_ not in mystopwords]\n",
    "    tokens = [morph.parse(word)[0].normal_form for word in tokens]\n",
    "    return ' '.join(ch for ch in tokens)\n",
    "    #return tokens"
   ]
  },
  {
   "cell_type": "code",
   "execution_count": 122,
   "metadata": {
    "collapsed": false
   },
   "outputs": [
    {
     "name": "stdout",
     "output_type": "stream",
     "text": [
      "CPU times: user 1min 49s, sys: 538 ms, total: 1min 50s\n",
      "Wall time: 1min 51s\n"
     ]
    }
   ],
   "source": [
    "%%time\n",
    "df_merged_comments['parsed'] = df_merged_comments.comment.apply(parse_sentence)"
   ]
  },
  {
   "cell_type": "code",
   "execution_count": 123,
   "metadata": {
    "collapsed": true
   },
   "outputs": [],
   "source": [
    "newdf = df_merged_comments.drop(['comment'], axis=1)"
   ]
  },
  {
   "cell_type": "code",
   "execution_count": 125,
   "metadata": {
    "collapsed": false
   },
   "outputs": [
    {
     "data": {
      "text/html": [
       "<div>\n",
       "<table border=\"1\" class=\"dataframe\">\n",
       "  <thead>\n",
       "    <tr style=\"text-align: right;\">\n",
       "      <th></th>\n",
       "      <th>sku</th>\n",
       "      <th>categoryLevel1Id</th>\n",
       "      <th>categoryLevel2Id</th>\n",
       "      <th>brandId</th>\n",
       "      <th>reting</th>\n",
       "      <th>com_len</th>\n",
       "      <th>comPos_len</th>\n",
       "      <th>comNeg_len</th>\n",
       "      <th>nCapital</th>\n",
       "      <th>nCapitalPos</th>\n",
       "      <th>nCapitalNeg</th>\n",
       "      <th>hasNegComment</th>\n",
       "      <th>hasPosComment</th>\n",
       "      <th>n_of_exc</th>\n",
       "      <th>parsed</th>\n",
       "    </tr>\n",
       "  </thead>\n",
       "  <tbody>\n",
       "    <tr>\n",
       "      <th>0</th>\n",
       "      <td>20005023</td>\n",
       "      <td>401</td>\n",
       "      <td>4010201</td>\n",
       "      <td>826</td>\n",
       "      <td>2.0</td>\n",
       "      <td>65.0</td>\n",
       "      <td>0.0</td>\n",
       "      <td>0.0</td>\n",
       "      <td>0.0</td>\n",
       "      <td>0.0</td>\n",
       "      <td>0.0</td>\n",
       "      <td>0.0</td>\n",
       "      <td>0.0</td>\n",
       "      <td>2.0</td>\n",
       "      <td>год работать устать лампочка гореть большой ничто</td>\n",
       "    </tr>\n",
       "    <tr>\n",
       "      <th>1</th>\n",
       "      <td>20020647</td>\n",
       "      <td>403</td>\n",
       "      <td>4030101</td>\n",
       "      <td>1425</td>\n",
       "      <td>2.0</td>\n",
       "      <td>1042.0</td>\n",
       "      <td>0.0</td>\n",
       "      <td>0.0</td>\n",
       "      <td>0.0</td>\n",
       "      <td>0.0</td>\n",
       "      <td>0.0</td>\n",
       "      <td>0.0</td>\n",
       "      <td>0.0</td>\n",
       "      <td>5.0</td>\n",
       "      <td>месяц истечение гарантийный срок машинка навер...</td>\n",
       "    </tr>\n",
       "    <tr>\n",
       "      <th>2</th>\n",
       "      <td>20020701</td>\n",
       "      <td>401</td>\n",
       "      <td>4010401</td>\n",
       "      <td>124</td>\n",
       "      <td>4.0</td>\n",
       "      <td>723.0</td>\n",
       "      <td>0.0</td>\n",
       "      <td>0.0</td>\n",
       "      <td>0.0</td>\n",
       "      <td>0.0</td>\n",
       "      <td>0.0</td>\n",
       "      <td>0.0</td>\n",
       "      <td>0.0</td>\n",
       "      <td>0.0</td>\n",
       "      <td>пользоваться неделя нарекание какой не положит...</td>\n",
       "    </tr>\n",
       "    <tr>\n",
       "      <th>3</th>\n",
       "      <td>30012256</td>\n",
       "      <td>203</td>\n",
       "      <td>2030301</td>\n",
       "      <td>93</td>\n",
       "      <td>5.0</td>\n",
       "      <td>71.0</td>\n",
       "      <td>0.0</td>\n",
       "      <td>0.0</td>\n",
       "      <td>0.0</td>\n",
       "      <td>0.0</td>\n",
       "      <td>0.0</td>\n",
       "      <td>0.0</td>\n",
       "      <td>0.0</td>\n",
       "      <td>0.0</td>\n",
       "      <td>ребята системный блок подойти игра кс го средн...</td>\n",
       "    </tr>\n",
       "    <tr>\n",
       "      <th>4</th>\n",
       "      <td>30011341</td>\n",
       "      <td>205</td>\n",
       "      <td>2050201</td>\n",
       "      <td>656</td>\n",
       "      <td>5.0</td>\n",
       "      <td>261.0</td>\n",
       "      <td>0.0</td>\n",
       "      <td>0.0</td>\n",
       "      <td>0.0</td>\n",
       "      <td>0.0</td>\n",
       "      <td>0.0</td>\n",
       "      <td>0.0</td>\n",
       "      <td>0.0</td>\n",
       "      <td>12.0</td>\n",
       "      <td>считать ярь замечательный телефон приятно держ...</td>\n",
       "    </tr>\n",
       "  </tbody>\n",
       "</table>\n",
       "</div>"
      ],
      "text/plain": [
       "        sku  categoryLevel1Id  categoryLevel2Id  brandId  reting  com_len  \\\n",
       "0  20005023               401           4010201      826     2.0     65.0   \n",
       "1  20020647               403           4030101     1425     2.0   1042.0   \n",
       "2  20020701               401           4010401      124     4.0    723.0   \n",
       "3  30012256               203           2030301       93     5.0     71.0   \n",
       "4  30011341               205           2050201      656     5.0    261.0   \n",
       "\n",
       "   comPos_len  comNeg_len  nCapital  nCapitalPos  nCapitalNeg  hasNegComment  \\\n",
       "0         0.0         0.0       0.0          0.0          0.0            0.0   \n",
       "1         0.0         0.0       0.0          0.0          0.0            0.0   \n",
       "2         0.0         0.0       0.0          0.0          0.0            0.0   \n",
       "3         0.0         0.0       0.0          0.0          0.0            0.0   \n",
       "4         0.0         0.0       0.0          0.0          0.0            0.0   \n",
       "\n",
       "   hasPosComment  n_of_exc                                             parsed  \n",
       "0            0.0       2.0  год работать устать лампочка гореть большой ничто  \n",
       "1            0.0       5.0  месяц истечение гарантийный срок машинка навер...  \n",
       "2            0.0       0.0  пользоваться неделя нарекание какой не положит...  \n",
       "3            0.0       0.0  ребята системный блок подойти игра кс го средн...  \n",
       "4            0.0      12.0  считать ярь замечательный телефон приятно держ...  "
      ]
     },
     "execution_count": 125,
     "metadata": {},
     "output_type": "execute_result"
    }
   ],
   "source": [
    "newdf.head()"
   ]
  },
  {
   "cell_type": "code",
   "execution_count": 127,
   "metadata": {
    "collapsed": false
   },
   "outputs": [
    {
     "data": {
      "text/plain": [
       "sku                 0\n",
       "categoryLevel1Id    0\n",
       "categoryLevel2Id    0\n",
       "brandId             0\n",
       "reting              0\n",
       "com_len             0\n",
       "comPos_len          0\n",
       "comNeg_len          0\n",
       "nCapital            0\n",
       "nCapitalPos         0\n",
       "nCapitalNeg         0\n",
       "hasNegComment       0\n",
       "hasPosComment       0\n",
       "n_of_exc            0\n",
       "parsed              0\n",
       "dtype: int64"
      ]
     },
     "execution_count": 127,
     "metadata": {},
     "output_type": "execute_result"
    }
   ],
   "source": [
    "newdf.isnull().sum()"
   ]
  },
  {
   "cell_type": "code",
   "execution_count": 128,
   "metadata": {
    "collapsed": true
   },
   "outputs": [],
   "source": [
    "keep = {'reting': [1.0, 2.0, 3.0, 4.0, 5.0]}\n",
    "\n",
    "newdf = newdf[newdf[list(keep)].isin(keep).all(axis=1)]"
   ]
  },
  {
   "cell_type": "code",
   "execution_count": 139,
   "metadata": {
    "collapsed": true
   },
   "outputs": [],
   "source": [
    "newdf.to_csv('data_parsed.csv', index = False)"
   ]
  },
  {
   "cell_type": "code",
   "execution_count": 129,
   "metadata": {
    "collapsed": false
   },
   "outputs": [],
   "source": [
    "X_train, X_test, y_train, y_test = train_test_split(newdf.drop(['reting'], axis=1), newdf['reting'], test_size=0.33)"
   ]
  },
  {
   "cell_type": "code",
   "execution_count": 130,
   "metadata": {
    "collapsed": false
   },
   "outputs": [
    {
     "data": {
      "text/plain": [
       "'год работать устать лампочка гореть большой ничто'"
      ]
     },
     "execution_count": 130,
     "metadata": {},
     "output_type": "execute_result"
    }
   ],
   "source": [
    "X_train['parsed'][0]"
   ]
  },
  {
   "cell_type": "code",
   "execution_count": 131,
   "metadata": {
    "collapsed": false
   },
   "outputs": [],
   "source": [
    "vectorizer = TfidfVectorizer(min_df=10, ngram_range=(1,1), max_features=2000).fit(X_train['parsed'])\n",
    "tidf_features_train = vectorizer.transform(X_train['parsed'])\n",
    "tidf_features_test = vectorizer.transform(X_test['parsed'])"
   ]
  },
  {
   "cell_type": "code",
   "execution_count": 132,
   "metadata": {
    "collapsed": false
   },
   "outputs": [
    {
     "data": {
      "text/plain": [
       "(10309, 2000)"
      ]
     },
     "execution_count": 132,
     "metadata": {},
     "output_type": "execute_result"
    }
   ],
   "source": [
    "tidf_features_train.shape"
   ]
  },
  {
   "cell_type": "code",
   "execution_count": 133,
   "metadata": {
    "collapsed": false
   },
   "outputs": [
    {
     "name": "stdout",
     "output_type": "stream",
     "text": [
      "test f1-score:\t 0.597282394644\n",
      "train f1-score:\t 0.599282180619\n"
     ]
    }
   ],
   "source": [
    "#Logistice Regression\n",
    "data_train = hstack((X_train.drop(['parsed'], axis=1), tidf_features_train))\n",
    "data_test = hstack((X_test.drop(['parsed'], axis=1), tidf_features_test))\n",
    "\n",
    "lr = LogisticRegression().fit(data_train, y_train)\n",
    "\n",
    "print(\"test f1-score:\\t\", f1_score(y_test, lr.predict(data_test), average='micro'))\n",
    "print(\"train f1-score:\\t\", f1_score(y_train, lr.predict(data_train), average='micro'))"
   ]
  },
  {
   "cell_type": "code",
   "execution_count": 134,
   "metadata": {
    "collapsed": false
   },
   "outputs": [
    {
     "name": "stderr",
     "output_type": "stream",
     "text": [
      "/Applications/anaconda/lib/python3.6/site-packages/keras/preprocessing/text.py:89: UserWarning: The `nb_words` argument in `Tokenizer` has been renamed `num_words`.\n",
      "  warnings.warn('The `nb_words` argument in `Tokenizer` '\n",
      "/Applications/anaconda/lib/python3.6/site-packages/ipykernel_launcher.py:16: UserWarning: The `dropout` argument is no longer support in `Embedding`. You can apply a `keras.layers.SpatialDropout1D` layer right after the `Embedding` layer to get the same behavior.\n",
      "  app.launch_new_instance()\n",
      "/Applications/anaconda/lib/python3.6/site-packages/ipykernel_launcher.py:17: UserWarning: Update your `LSTM` call to the Keras 2 API: `LSTM(196, dropout=0.2, recurrent_dropout=0.2)`\n"
     ]
    }
   ],
   "source": [
    "#Keras LSTM\n",
    "keep = {'reting': [1.0, 2.0, 3.0, 4.0, 5.0]}\n",
    "\n",
    "newdf = df_merged_comments[df_merged_comments[list(keep)].isin(keep).all(axis=1)]\n",
    "\n",
    "max_fatures = 2000\n",
    "tokenizer = Tokenizer(nb_words=max_fatures, split=' ')\n",
    "tokenizer.fit_on_texts(newdf['comment'].values)\n",
    "X = tokenizer.texts_to_sequences(newdf['comment'].values)\n",
    "X = pad_sequences(X)\n",
    "\n",
    "embed_dim = 128\n",
    "lstm_out = 196\n",
    "\n",
    "model = Sequential()\n",
    "model.add(Embedding(2000, embed_dim, input_length = X.shape[1], dropout=0.2))\n",
    "model.add(LSTM(lstm_out, dropout_U=0.2, dropout_W=0.2))\n",
    "model.add(Dense(5,activation='softmax'))\n",
    "model.compile(loss = 'categorical_crossentropy', optimizer='adam',metrics = ['accuracy'])"
   ]
  },
  {
   "cell_type": "code",
   "execution_count": 135,
   "metadata": {
    "collapsed": false
   },
   "outputs": [
    {
     "data": {
      "text/plain": [
       "(15387, 424)"
      ]
     },
     "execution_count": 135,
     "metadata": {},
     "output_type": "execute_result"
    }
   ],
   "source": [
    "X.shape"
   ]
  },
  {
   "cell_type": "code",
   "execution_count": 136,
   "metadata": {
    "collapsed": false
   },
   "outputs": [],
   "source": [
    "X_train, X_test, y_train, y_test = train_test_split(X, np.array(newdf['reting']), test_size=0.33)"
   ]
  },
  {
   "cell_type": "code",
   "execution_count": 137,
   "metadata": {
    "collapsed": true
   },
   "outputs": [],
   "source": [
    "y_train_lstm = pd.get_dummies(y_train)\n",
    "y_test_lstm = pd.get_dummies(y_test)"
   ]
  },
  {
   "cell_type": "code",
   "execution_count": null,
   "metadata": {
    "collapsed": false
   },
   "outputs": [
    {
     "name": "stderr",
     "output_type": "stream",
     "text": [
      "/Applications/anaconda/lib/python3.6/site-packages/keras/models.py:837: UserWarning: The `nb_epoch` argument in `fit` has been renamed `epochs`.\n",
      "  warnings.warn('The `nb_epoch` argument in `fit` '\n"
     ]
    },
    {
     "name": "stdout",
     "output_type": "stream",
     "text": [
      "Train on 8247 samples, validate on 2062 samples\n",
      "Epoch 2/7\n",
      "1184/8247 [===>..........................] - ETA: 476s - loss: 1.1772 - acc: 0.5971\b\b\b\b\b\b\b\b\b\b\b\b\b\b\b\b\b\b\b\b\b\b\b\b\b\b\b\b\b\b\b\b\b\b\b\b\b\b\b\b\b\b\b\b\b\b\b\b\b\b\b\b\b\b\b\b\b\b\b\b\b\b\b\b\b\b\b\b\b\b\b\b\b\b\b\b\b\b\b\b\b\b\b\b\b\b\b\b\b\b\b\b\b\b\b\b\b\b\b\b\b\b\b\b\b\b\b\b\b\b\b\b\b\b\b\b\b\b\b\b\b\b\b\b\b\b\b\b\b\b\b\b\b\b\b\b\b\b\b\b\b\b\b\b\b\b\b\b\b\b\b\b\b\b\b\b\b\b\b\b\b\b\b\b\b\b\b\b\b\b\b\b\b\b\b\b\b\b\b\b\b\b\b\b\b\b\b\b\b\b\b\b\b\b\b\b\b\b\b\b\b\b\b\b\b\b\b\b\b\b\b\b\b\b\b\b\b\b\b\b\b\b\b\b\b\b\b\b\b\b\b\b\b\b\b\b\b\b\b\b\b\b\b\b\b\b\b\b\b\b\b\b\b\b\b\b\b\b\b\b\b\b\b\b\b\b\b\b\b\b\b\b\b\b\b\b\b\b\b\b\b\b\b\b\b\b\b\b\b\b\b\b\b\b\b\b\b\b\b\b\b\b\b\b\b\b\b\b\b\b\b\b\b\b\b\b\b\b\b\b\b\b\b\b\b\b\b\b\b\b\b\b\b\b\b\b\b\b\b\b\b\b\b\b\b\b\b\b\b\b\b\b\b\b\b\b\b\b\b\b\b\b\b\b\b\b\b\b\b\b\b\b\b\b\b\b\b\b\b\b\b\b\b\b\b\b\b\b\b\b\b\b\b\b\b\b\b\b\b\b\b\b\b\b\b\b\b\b\b\b\b\b\b\b\b\b\b\b\b\b\b\b\b\b\b\b\b\b\b\b\b\b\b\b\b\b\b\b\b\b\b\b\b\b\b\b\b\b\b\b\b\b\b\b\b\b\b\b\b\b\b\b\b\b\b\b\b\b\b\b\b\b\b\b\b\b\b\b\b\b\b\b\b\b\b\b\b\b\b\b\b\b\b\b\b\b\b\b\b\b\b\b\b\b\b\b\b\b\b\b\b\b\b\b\b\b\b\b\b\b\b\b\b\b\b\b\b\b\b\b\b\b\b\b\b\b\b\b\b\b\b\b\b\b\b\b\b\b\b\b\b\b\b\b\b\b\b\b\b\b\b\b\b\b\b\b\b\b\b\b\b\b\b\b\b\b\b\b\b\b\b\b\b\b\b\b\b\b\b\b\b\b\b\b\b\b\b\b\b\b\b\b\b\b\b\b\b\b\b\b\b\b\b\b\b\b\b\b\b\b\b\b\b\b\b\b\b\b\b\b\b\b\b\b\b\b\b\b\b\b\b\b\b\b\b\b\b\b\b\b\b\b\b\b\b\b\b\b\b\b\b\b\b\b\b\b\b\b\b\b\b\b\b\b\b\b\b\b\b\b\b\b\b\b\b\b\b\b\b\b\b\b\b\b\b\b\b\b\b\b\b\b\b\b\b\b\b\b\b\b\b\b\b\b\b\b\b\b\b\b\b\b\b\b\b\b\b\b\b\b\b\b\b\b\b\b\b\b\b\b\b\b\b\b\b\b\b\b\b\b\b\b\b\b\b\b\b\b\b\b\b\b\b\b\b\b\b\b\b\b\b\b\b\b\b\b\b\b\b\b\b\b\b\b\b\b\b\b\b\b\b\b\b\b\b\b\b\b\b\b\b\b\b\b\b\b\b\b\b\b\b\b\b\b\b\b\b\b\b\b\b\b\b\b\b\b\b\b\b\b\b\b\b\b\b\b\b\b\b\b\b\b\b\b\b\b\b\b\b\b\b\b\b\b\b\b\b\b\b\b\b\b\b\b\b\b\b\b\b\b\b\b\b\b\b\b\b\b\b\b\b\b\b\b\b\b\b\b\b\b\b\b\b\b\b\b\b\b\b\b\b\b\b\b\b\b\b\b\b\b\b\b\b\b\b\b\b\b\b\b\b\b\b\b\b\b\b\b\b\b\b\b\b\b\b\b\b\b\b\b\b\b\b\b\b\b\b\b\b\b\b\b\b\b\b\b\b\b\b\b\b\b\b\b\b\b\b\b\b\b\b\b\b\b\b\b\b\b\b\b\b\b\b\b\b\b\b\b\b\b\b\b\b\b\b\b\b\b\b\b\b\b\b\b\b\b\b\b\b\b\b\b\b\b\b\b\b\b\b\b\b\b\b\b\b\b\b\b\b\b\b\b\b\b\b\b\b\b\b\b\b\b\b\b\b\b\b\b\b\b\b\b\b\b\b\b\b\b\b\b\b\b\b\b\b\b\b\b\b\b\b\b\b\b\b\b\b\b\b\b\b\b\b\b\b\b\b\b\b\b\b\b\b\b\b\b\b\b\b\b\b\b\b\b\b\b\b\b\b\b\b\b\b\b\b\b\b\b\b\b\b\b\b\b\b\b\b\b\b\b\b\b\b\b\b\b\b\b\b\b\b\b\b\b\b\b\b\b\b\b\b\b\b\b\b\b\b\b\b\b\b\b\b\b\b\b\b\b\b\b\b\b\b\b\b\b\b\b\b\b\b\b\b\b\b\b\b\b\b\b\b\b\b\b\b\b\b\b\b\b\b\b\b\b\b\b\b\b\b\b\b\b\b\b\b\b\b\b\b\b\b\b\b\b\b\b\b\b\b\b\b\b\b\b\b\b\b\b\b\b\b\b\b\b\b\b\b\b\b\b\b\b\b\b\b\b\b\b\b\b\b\b\b\b\b\b\b\b\b\b\b\b\b\b\b\b\b\b\b\b\b\b\b\b\b\b\b\b\b\b\b\b\b\b\b\b\b\b\b\b\b\b\b\b\b\b\b\b\b\b\b\b\b\b\b\b\b\b\b\b\b\b\b\b\b\b\b\b\b\b\b\b\b\b\b\b\b\b\b\b\b\b\b\b\b\b\b\b\b\b\b\b\b\b\b\b\b\b\b\b\b\b\b\b\b\b\b\b\b\b\b\b\b\b\b\b\b\b\b\b\b\b\b\b\b\b\b\b\b\b\b\b\b\b\b\b\b\b\b\b\b\b\b\b\b\b\b\b\b\b\b\b\b\b\b\b\b\b\b\b\b\b\b\b\b\b\b\b\b\b\b\b\b\b\b\b\b\b\b\b\b\b\b\b\b\b\b\b\b\b\b\b\b\b\b\b\b\b\b\b\b\b\b\b\b\b\b\b\b\b\b\b\b\b\b\b\b\b\b\b\b\b\b\b\b\b\b\b\b\b\b\b\b\b\b\b\b\b\b\b\b\b\b\b\b\b\b\b\b\b\b\b\b\b\b\b\b\b\b\b\b\b\b\b\b\b\b\b\b\b\b\b\b\b\b\b\b\b\b\b\b\b\b\b\b\b\b\b\b\b\b\b\b\b\b\b\b\b\b\b\b\b\b\b\b\b\b\b\b\b\b\b\b\b\b\b\b\b\b\b\b\b\b\b\b\b\b\b\b\b\b\b\b\b\b\b\b\b\b\b\b\b\b\b\b\b\b\b\b\b\b\b\b\b\b\b\b\b\b\b\b\b\b\b\b\b\b\b\b\b\b\b\b\b\b\b\b\b\b\b\b\b\b\b\b\b\b\b\b\b\b\b\b\b\b\b\b\b\b\b\b\b\b\b\b\b\b\b\b\b\b\b\b\b\b\b\b\b\b\b\b\b\b\b\b\b\b\b\b\b\b\b\b\b\b\b\b\b\b\b\b\b\b\b\b\b\b\b\b\b\b\b\b\b\b\b\b\b\b\b\b\b\b\b\b\b\b\b\b\b\b\b\b\b\b\b\b\b\b\b\b\b\b\b\b\b\b\b\b\b\b\b\b\b\b\b\b\b\b\b\b\b\b\b\b\b\b\b\b\b\b\b\b\b\b\b\b\b\b\b\b\b\b\b\b\b\b\b\b\b\b\b\b\b\b\b\b\b\b\b\b\b\b\b\b\b\b\b\b\b\b\b\b\b\b\b\b\b\b\b\b\b\b\b\b\b\b\b\b\b\b\b\b\b\b\b\b\b\b\b\b\b\b\b\b\b\b\b\b\b\b\b\b\b\b\b\b\b\b\b\b\b\b\b\b\b\b\b\b\b\b\b\b\b\b\b\b\b\b\b\b\b\b\b\b\b\b\b\b\b\b\b\b\b\b\b\b\b\b\b\b\b\b\b\b\b\b\b\b\b\b\b\b\b\b\b\b\b\b\b\b\b\b\b\b\b\b\b\b\b\b\b\b\b\b\b\b\b\b\b\b\b\b\b\b\b\b\b\b\b\b\b\b\b\b\b\b\b\b\b\b\b\b\b\b\b\b\b\b\b\b\b\b\b\b\b\b\b\b\b\b\b\b\b\b\b\b\b\b\b\b\b\b\b\b\b\b\b\b\b\b\b\b\b\b\b\b\b\b\b\b\b\b\b\b\b\b\b\b\b\b\b\b\b\b\b\b\b\b\b\b\b\b\b\b\b\b\b\b\b\b\b\b\b\b\b\b\b\b\b\b\b\b\b\b\b\b\b\b\b\b\b\b\b\b\b\b\b\b\b\b\b\b\b\b\b\b\b\b\b\b\b\b\b\b\b\b\b\b\b\b\b\b\b\b\b\b\b\b\b\b\b\b\b\b\b\b\b\b\b\b\b\b\b\b\b\b\b\b\b\b\b\b\b\b\b\b\b\b\b\b\b\b\b\b\b\b\b\b\b\b\b\b\b\b\b\b\b\b\b\b\b\b\b\b\b\b\b\b\b\b\b\b\b\b\b\b\b\b\b\b\b\b\b\b\b\b\b\b\b\b\b\b\b\b\b\b\b\b\b\b\b\b\b\b\b\b\b\b\b\b\b\b\b\b\b\b\b\b\b\b\b\b\b\b\b\b\b\b\b\b\b\b\b\b\b\b\b\b\b\b\b\b\b\b\b\b\b\b\b\b\b\b\b\b\b\b\b\b\b\b\b\b\b\b\b\b\b\b\b\b\b\b\b\b\b\b\b\b\b\b\b\b\b\b\b\b\b\b\b\b\b\b\b\b\b\b\b\b\b\b\b\b\b\b\b\b\b\b\b\b\b\b\b\b\b\b\b\b\b\b\b\b\b\b\b\b\b\b\b\b\b\b\b\b\b\b\b\b\b\b\b\b\b\b\b\b\b\b\b\b\b\b\b\b\b\b\b\b\b\b\b\b\b\b\b\b\b\b\b\b\b\b\b\b\b\b\b\b\b\b\b\b\b\b\b\b\b\b\b\b\b\b\b\b\b\b\b\b\b\b\b\b\b\b\b\b\b\b\b\b\b\b\b\b\b\b\b\b\b\b\b\b\b\b\b\b\b\b\b\b\b\b\b\b\b\b\b\b\b\b\b\b\b\b\b\b\b\b\b\b\b\b\b\b\b\b\b\b\b\b\b\b\b\b\b\b\b\b\b\b\b\b\b\b\b\b\b\b\b\b\b\b\b\b\b\b\b\b\b\b\b\b\b\b\b\b\b\b\b\b\b\b\b\b\b\b\b\b\b\b\b\b\b\b\b\b\b\b\b\b\b\b\b\b\b\b\b\b\b\b\b\b\b\b\b\b\b\b\b\b\b\b\b\b\b\b\b\b\b\b\b\b\b\b\b\b\b\b\b\b\b\b\b\b\b\b\b\b\b\b\b\b\b\b\b\b\b\b\b\b\b\b\b\b\b\b\b\b\b\b\b\b\b\b\b\b\b\b\b\b\b\b\b\b\b\b\b\b\b\b\b\b\b\b\b\b\b\b\b\b\b\b\b\b\b\b\b\b\b\b\b\b\b\b\b\b\b\b\b\b\b\b\b\b\b\b\b\b\b\b\b\b\b\b\b\b\b\b\b\b\b\b\b\b\b\b\b\b\b\b\b\b\b\b\b\b\b\b\b\b\b\b\b\b\b\b\b\b\b\b\b\b\b\b\b\b\b\b\b\b\b\b\b\b\b\b\b\b\b\b\b\b\b\b\b\b\b\b\b\b\b\b\b\b\b\b\b\b\b\b\b\b\b\b\b\b\b\b\b\b\b\b\b\b\b\b\b\b\b\b\b\b\b\b\b\b\b\b\b\b\b\b\b\b\b\b\b\b\b\b\b\b\b\b\b\b\b\b\b\b\b\b\b\b\b\b\b\b\b\b\b\b\b\b\b\b\b\b\b\b\b\b\b\b\b\b\b\b\b\b\b\b\b\b\b\b\b\b\b\b\b\b\b\b\b\b\b\b\b\b\b\b\b\b\b\b\b\b\b\b\b\b\b\b\b\b\b\b\b\b\b\b\b\b\b\b\b\b\b\b\b\b\b\b\b\b\b\b\b\b\b\b\b\b\b\b\b\b\b\b\b\b\b\b\b\b\b\b\b\b\b\b\b\b\b\b\b\b\b\b\b\b\b\b\b\b\b\b\b\b\b\b\b\b\b\b\b\b\b\b\b\b\b\b\b\b\b\b\b\b\b\b\b\b\b\b\b\b\b\b\b\b\b\b\b\b\b\b\b\b\b\b\b\b\b\b\b\b\b\b\b\b\b\b\b\b\b\b\b\b\b\b\b\b\b\b\b\b\b\b\b\b\b\b\b\b\b\b\b\b\b\b\b\b\b\b\b"
     ]
    }
   ],
   "source": [
    "batch_size = 32\n",
    "model.fit(X_train, y_train_lstm.as_matrix(), nb_epoch = 7, batch_size=batch_size, verbose = 1,\n",
    "          validation_split=0.2, initial_epoch=1)"
   ]
  },
  {
   "cell_type": "code",
   "execution_count": 137,
   "metadata": {
    "collapsed": false
   },
   "outputs": [
    {
     "name": "stdout",
     "output_type": "stream",
     "text": [
      "5078/5078 [==============================] - 62s    \n"
     ]
    }
   ],
   "source": [
    "score, acc = model.evaluate(X_test, y_test_lstm.as_matrix(), batch_size=batch_size)"
   ]
  },
  {
   "cell_type": "code",
   "execution_count": 138,
   "metadata": {
    "collapsed": false
   },
   "outputs": [
    {
     "data": {
      "text/plain": [
       "(0.92828240320409272, 0.63824340279715508)"
      ]
     },
     "execution_count": 138,
     "metadata": {},
     "output_type": "execute_result"
    }
   ],
   "source": [
    "score, acc"
   ]
  },
  {
   "cell_type": "code",
   "execution_count": 60,
   "metadata": {
    "collapsed": false
   },
   "outputs": [],
   "source": [
    "dtrain = xgb.DMatrix(data_train, label=y_train)\n",
    "dtest = xgb.DMatrix(data_test, label=y_test)"
   ]
  },
  {
   "cell_type": "code",
   "execution_count": 61,
   "metadata": {
    "collapsed": true
   },
   "outputs": [],
   "source": [
    "# setup parameters for xgboost\n",
    "param = {}\n",
    "# use softmax multi-class classification\n",
    "param['objective'] = 'multi:softmax'\n",
    "# scale weight of positive examples\n",
    "param['eta'] = 0.1\n",
    "param['max_depth'] = 6\n",
    "param['silent'] = 1\n",
    "param['nthread'] = 4\n",
    "param['num_class'] = 6"
   ]
  },
  {
   "cell_type": "code",
   "execution_count": 62,
   "metadata": {
    "collapsed": false
   },
   "outputs": [],
   "source": [
    "watchlist = [(dtrain, 'train'), (dtest, 'test')]"
   ]
  },
  {
   "cell_type": "code",
   "execution_count": 63,
   "metadata": {
    "collapsed": false,
    "scrolled": true
   },
   "outputs": [
    {
     "name": "stdout",
     "output_type": "stream",
     "text": [
      "[0]\ttrain-merror:0.367058\ttest-merror:0.378495\n",
      "[1]\ttrain-merror:0.367737\ttest-merror:0.377511\n",
      "[2]\ttrain-merror:0.36376\ttest-merror:0.377708\n",
      "[3]\ttrain-merror:0.365603\ttest-merror:0.375935\n",
      "[4]\ttrain-merror:0.36473\ttest-merror:0.378299\n",
      "[5]\ttrain-merror:0.363275\ttest-merror:0.378495\n",
      "[6]\ttrain-merror:0.364342\ttest-merror:0.378692\n",
      "[7]\ttrain-merror:0.363275\ttest-merror:0.377708\n",
      "[8]\ttrain-merror:0.362596\ttest-merror:0.377314\n",
      "[9]\ttrain-merror:0.363275\ttest-merror:0.377708\n",
      "[10]\ttrain-merror:0.363275\ttest-merror:0.375935\n",
      "[11]\ttrain-merror:0.362596\ttest-merror:0.376132\n",
      "[12]\ttrain-merror:0.362208\ttest-merror:0.376329\n",
      "[13]\ttrain-merror:0.361723\ttest-merror:0.375935\n",
      "[14]\ttrain-merror:0.360365\ttest-merror:0.375935\n",
      "[15]\ttrain-merror:0.359298\ttest-merror:0.376132\n",
      "[16]\ttrain-merror:0.359201\ttest-merror:0.375345\n",
      "[17]\ttrain-merror:0.358716\ttest-merror:0.375148\n",
      "[18]\ttrain-merror:0.356679\ttest-merror:0.375542\n",
      "[19]\ttrain-merror:0.355224\ttest-merror:0.374754\n",
      "[20]\ttrain-merror:0.35309\ttest-merror:0.37436\n",
      "[21]\ttrain-merror:0.351537\ttest-merror:0.374557\n",
      "[22]\ttrain-merror:0.350567\ttest-merror:0.373178\n",
      "[23]\ttrain-merror:0.349112\ttest-merror:0.372391\n",
      "[24]\ttrain-merror:0.347948\ttest-merror:0.372588\n",
      "[25]\ttrain-merror:0.345426\ttest-merror:0.3718\n",
      "[26]\ttrain-merror:0.344844\ttest-merror:0.371209\n",
      "[27]\ttrain-merror:0.342904\ttest-merror:0.371209\n",
      "[28]\ttrain-merror:0.339994\ttest-merror:0.371209\n",
      "[29]\ttrain-merror:0.339024\ttest-merror:0.3718\n",
      "[30]\ttrain-merror:0.337763\ttest-merror:0.3718\n",
      "[31]\ttrain-merror:0.336308\ttest-merror:0.371603\n",
      "[32]\ttrain-merror:0.335532\ttest-merror:0.370815\n",
      "[33]\ttrain-merror:0.331943\ttest-merror:0.370421\n",
      "[34]\ttrain-merror:0.330682\ttest-merror:0.36924\n",
      "[35]\ttrain-merror:0.329615\ttest-merror:0.368846\n",
      "[36]\ttrain-merror:0.327093\ttest-merror:0.368452\n",
      "[37]\ttrain-merror:0.325735\ttest-merror:0.368255\n",
      "[38]\ttrain-merror:0.32331\ttest-merror:0.368452\n",
      "[39]\ttrain-merror:0.322049\ttest-merror:0.368846\n",
      "[40]\ttrain-merror:0.319624\ttest-merror:0.368846\n",
      "[41]\ttrain-merror:0.318557\ttest-merror:0.368649\n",
      "[42]\ttrain-merror:0.315259\ttest-merror:0.367664\n",
      "[43]\ttrain-merror:0.312833\ttest-merror:0.367467\n",
      "[44]\ttrain-merror:0.311669\ttest-merror:0.36668\n",
      "[45]\ttrain-merror:0.308953\ttest-merror:0.365695\n",
      "[46]\ttrain-merror:0.306625\ttest-merror:0.366089\n",
      "[47]\ttrain-merror:0.305073\ttest-merror:0.366089\n",
      "[48]\ttrain-merror:0.303133\ttest-merror:0.365892\n",
      "[49]\ttrain-merror:0.301484\ttest-merror:0.365498\n",
      "[50]\ttrain-merror:0.299544\ttest-merror:0.365104\n",
      "[51]\ttrain-merror:0.298283\ttest-merror:0.364711\n",
      "[52]\ttrain-merror:0.296246\ttest-merror:0.363529\n",
      "[53]\ttrain-merror:0.294015\ttest-merror:0.361954\n",
      "[54]\ttrain-merror:0.291784\ttest-merror:0.362347\n",
      "[55]\ttrain-merror:0.290329\ttest-merror:0.362347\n",
      "[56]\ttrain-merror:0.289359\ttest-merror:0.362347\n",
      "[57]\ttrain-merror:0.286934\ttest-merror:0.361363\n",
      "[58]\ttrain-merror:0.28577\ttest-merror:0.360969\n",
      "[59]\ttrain-merror:0.284897\ttest-merror:0.361954\n",
      "[60]\ttrain-merror:0.282763\ttest-merror:0.360969\n",
      "[61]\ttrain-merror:0.281502\ttest-merror:0.361166\n",
      "[62]\ttrain-merror:0.27995\ttest-merror:0.361166\n",
      "[63]\ttrain-merror:0.279368\ttest-merror:0.361166\n",
      "[64]\ttrain-merror:0.277233\ttest-merror:0.360575\n",
      "[65]\ttrain-merror:0.276166\ttest-merror:0.360378\n",
      "[66]\ttrain-merror:0.274226\ttest-merror:0.359393\n",
      "[67]\ttrain-merror:0.273159\ttest-merror:0.35959\n",
      "[68]\ttrain-merror:0.271704\ttest-merror:0.35959\n",
      "[69]\ttrain-merror:0.270346\ttest-merror:0.359197\n",
      "[70]\ttrain-merror:0.269085\ttest-merror:0.359\n",
      "[71]\ttrain-merror:0.267824\ttest-merror:0.359\n",
      "[72]\ttrain-merror:0.266951\ttest-merror:0.358803\n",
      "[73]\ttrain-merror:0.265981\ttest-merror:0.359197\n",
      "[74]\ttrain-merror:0.263944\ttest-merror:0.359197\n",
      "[75]\ttrain-merror:0.261616\ttest-merror:0.359393\n",
      "[76]\ttrain-merror:0.260646\ttest-merror:0.358409\n",
      "[77]\ttrain-merror:0.259191\ttest-merror:0.358803\n",
      "[78]\ttrain-merror:0.257348\ttest-merror:0.359\n",
      "[79]\ttrain-merror:0.255505\ttest-merror:0.359787\n",
      "[80]\ttrain-merror:0.253953\ttest-merror:0.359\n",
      "[81]\ttrain-merror:0.252789\ttest-merror:0.359\n",
      "[82]\ttrain-merror:0.251237\ttest-merror:0.358606\n",
      "[83]\ttrain-merror:0.249976\ttest-merror:0.358803\n",
      "[84]\ttrain-merror:0.248618\ttest-merror:0.357424\n",
      "[85]\ttrain-merror:0.247842\ttest-merror:0.357424\n",
      "[86]\ttrain-merror:0.246387\ttest-merror:0.357227\n",
      "[87]\ttrain-merror:0.245611\ttest-merror:0.357621\n",
      "[88]\ttrain-merror:0.245029\ttest-merror:0.357424\n",
      "[89]\ttrain-merror:0.243671\ttest-merror:0.356243\n",
      "[90]\ttrain-merror:0.24241\ttest-merror:0.356243\n",
      "[91]\ttrain-merror:0.241149\ttest-merror:0.356046\n",
      "[92]\ttrain-merror:0.240857\ttest-merror:0.355455\n",
      "[93]\ttrain-merror:0.239596\ttest-merror:0.356046\n",
      "[94]\ttrain-merror:0.237462\ttest-merror:0.355652\n",
      "[95]\ttrain-merror:0.236201\ttest-merror:0.356046\n",
      "[96]\ttrain-merror:0.235425\ttest-merror:0.355652\n",
      "[97]\ttrain-merror:0.234552\ttest-merror:0.356243\n",
      "[98]\ttrain-merror:0.233485\ttest-merror:0.35644\n",
      "[99]\ttrain-merror:0.232709\ttest-merror:0.355849\n"
     ]
    }
   ],
   "source": [
    "bst = xgb.train(param, dtrain, 100, watchlist)"
   ]
  },
  {
   "cell_type": "code",
   "execution_count": 64,
   "metadata": {
    "collapsed": false
   },
   "outputs": [
    {
     "data": {
      "text/plain": [
       "0.64415124064592355"
      ]
     },
     "execution_count": 64,
     "metadata": {},
     "output_type": "execute_result"
    }
   ],
   "source": [
    "f1_score(y_test, bst.predict(dtest), average='micro')"
   ]
  },
  {
   "cell_type": "code",
   "execution_count": null,
   "metadata": {
    "collapsed": true
   },
   "outputs": [],
   "source": []
  }
 ],
 "metadata": {
  "anaconda-cloud": {},
  "kernelspec": {
   "display_name": "Python 3",
   "language": "python",
   "name": "python3"
  },
  "language_info": {
   "codemirror_mode": {
    "name": "ipython",
    "version": 3
   },
   "file_extension": ".py",
   "mimetype": "text/x-python",
   "name": "python",
   "nbconvert_exporter": "python",
   "pygments_lexer": "ipython3",
   "version": "3.6.0"
  }
 },
 "nbformat": 4,
 "nbformat_minor": 2
}
