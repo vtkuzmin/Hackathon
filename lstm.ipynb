{
 "cells": [
  {
   "cell_type": "code",
   "execution_count": 1,
   "metadata": {
    "collapsed": false
   },
   "outputs": [
    {
     "name": "stderr",
     "output_type": "stream",
     "text": [
      "Using Theano backend.\n"
     ]
    }
   ],
   "source": [
    "import pandas as pd\n",
    "from sklearn.model_selection import train_test_split\n",
    "from keras.preprocessing.text import Tokenizer\n",
    "from keras.preprocessing.sequence import pad_sequences\n",
    "from keras.models import Sequential, load_model\n",
    "from keras.layers import Dense, Embedding, LSTM\n",
    "from keras.utils.np_utils import to_categorical\n",
    "from keras.callbacks import ReduceLROnPlateau\n",
    "\n",
    "%matplotlib inline"
   ]
  },
  {
   "cell_type": "code",
   "execution_count": 2,
   "metadata": {
    "collapsed": false
   },
   "outputs": [],
   "source": [
    "#Загружаем подготовленные данные\n",
    "\n",
    "df_parsed = pd.read_csv('data_parsed.csv').drop(['comment'], axis=1).dropna()\n",
    "\n",
    "#Удаляем объекты с дробными оценками\n",
    "keep = {'reting': [1.0, 2.0, 3.0, 4.0, 5.0]}\n",
    "df_parsed = df_parsed[df_parsed[list(keep)].isin(keep).all(axis=1)]"
   ]
  },
  {
   "cell_type": "code",
   "execution_count": 3,
   "metadata": {
    "collapsed": false
   },
   "outputs": [],
   "source": [
    "#Разделим выборку на обучающую и тестовую\n",
    "X_train_lstm, X_test_lstm, y_train_lstm, y_test_lstm = train_test_split(df_parsed['parsed'],\n",
    "                                                                df_parsed['reting'], test_size=0.2,\n",
    "                                                                random_state=241)\n",
    "#Предобработка данных для подачи на вход нейросети\n",
    "max_features = 20000\n",
    "maxlen=128\n",
    "tokenizer = Tokenizer(nb_words=max_features, split=' ')\n",
    "tokenizer.fit_on_texts(X_train_lstm)\n",
    "X_train_lstm = tokenizer.texts_to_sequences(X_train_lstm)\n",
    "X_train_lstm = pad_sequences(X_train_lstm, maxlen=maxlen)\n",
    "X_test_lstm = tokenizer.texts_to_sequences(X_test_lstm)\n",
    "X_test_lstm = pad_sequences(X_test_lstm, maxlen=maxlen)\n",
    "\n",
    "y_train_lstm = pd.get_dummies(y_train_lstm).as_matrix()\n",
    "y_test_lstm = pd.get_dummies(y_test_lstm).as_matrix()"
   ]
  },
  {
   "cell_type": "code",
   "execution_count": 4,
   "metadata": {
    "collapsed": false
   },
   "outputs": [],
   "source": [
    "#Нейросеть с LSTM слоем для обработки текстов\n",
    "model = Sequential()\n",
    "\n",
    "model.add(Embedding(max_features, 128, dropout=0.3))\n",
    "model.add(LSTM(128, dropout_U=0.2, dropout_W=0.3))\n",
    "model.add(Dense(5,activation='softmax'))\n",
    "model.compile(loss = 'categorical_crossentropy', optimizer='rmsprop', metrics = ['accuracy'])"
   ]
  },
  {
   "cell_type": "code",
   "execution_count": 5,
   "metadata": {
    "collapsed": false,
    "scrolled": true
   },
   "outputs": [],
   "source": [
    "# Обучение модели занимает некоторое время, рекомендуется загрузить уже обученную модель.\n",
    "# Для загрузки модели раскомментируйте следующую строку.\n",
    "model = load_model('lstm.h5')\n",
    "\n",
    "# Для обучения модели раскомментируете строки ниже.\n",
    "# batch_size = 32\n",
    "# model.fit(X_train_lstm, y_train_lstm, nb_epoch = 7, batch_size=batch_size, verbose = 1,\n",
    "#          validation_split=0.2)"
   ]
  },
  {
   "cell_type": "code",
   "execution_count": null,
   "metadata": {
    "collapsed": true
   },
   "outputs": [],
   "source": [
    "# Сохранение модели\n",
    "# model.save('lstm.h5')\n",
    "# del model"
   ]
  },
  {
   "cell_type": "code",
   "execution_count": 7,
   "metadata": {
    "collapsed": false
   },
   "outputs": [
    {
     "name": "stdout",
     "output_type": "stream",
     "text": [
      "3072/3077 [============================>.] - ETA: 0s\n",
      "\n",
      "accuracy на текстовой выборке:\t: 0.588235294127\n"
     ]
    }
   ],
   "source": [
    "batch_size = 32\n",
    "# train_loss, train_acc = model.evaluate(X_train_lstm, y_train_lstm, batch_size=batch_size)\n",
    "test_loss, test_acc = model.evaluate(X_test_lstm, y_test_lstm, batch_size=batch_size)\n",
    "\n",
    "# print(\"\\n\\naccuracy на обучающей выборке:\\t\", train_acc)\n",
    "print(\"\\n\\naccuracy на текстовой выборке:\\t:\", test_acc)"
   ]
  },
  {
   "cell_type": "code",
   "execution_count": null,
   "metadata": {
    "collapsed": true
   },
   "outputs": [],
   "source": []
  }
 ],
 "metadata": {
  "anaconda-cloud": {},
  "kernelspec": {
   "display_name": "Python [default]",
   "language": "python",
   "name": "python3"
  },
  "language_info": {
   "codemirror_mode": {
    "name": "ipython",
    "version": 3
   },
   "file_extension": ".py",
   "mimetype": "text/x-python",
   "name": "python",
   "nbconvert_exporter": "python",
   "pygments_lexer": "ipython3",
   "version": "3.5.2"
  }
 },
 "nbformat": 4,
 "nbformat_minor": 2
}
