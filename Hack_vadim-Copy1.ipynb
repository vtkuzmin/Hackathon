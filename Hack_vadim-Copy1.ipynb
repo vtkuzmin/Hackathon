{
 "cells": [
  {
   "cell_type": "code",
   "execution_count": 1,
   "metadata": {
    "collapsed": false
   },
   "outputs": [],
   "source": [
    "import math\n",
    "import re\n",
    "import pandas as pd\n",
    "import numpy as np\n",
    "import pymorphy2\n",
    "from collections import Counter\n",
    "from sklearn.feature_extraction.text import TfidfVectorizer\n",
    "from sklearn.model_selection import train_test_split\n",
    "import nltk\n",
    "from nltk.tokenize import WhitespaceTokenizer\n",
    "from string import punctuation\n",
    "from nltk.corpus import stopwords\n",
    "from pymorphy2 import MorphAnalyzer\n",
    "from scipy.sparse import coo_matrix, hstack\n",
    "from sklearn.metrics import f1_score\n",
    "from sklearn.metrics import accuracy_score\n",
    "from sklearn.metrics import roc_auc_score, roc_curve\n",
    "from sklearn.feature_extraction.text import TfidfVectorizer\n",
    "from sklearn.svm import SVC\n",
    "from sklearn import preprocessing\n",
    "\n",
    "\n",
    "def merge_com(data):\n",
    "    data = data.copy()\n",
    "    for i in range(data.shape[0]):\n",
    "        data.loc[i, 'com_len'] = len(data.loc[i, 'comment'])\n",
    "        \n",
    "        try:\n",
    "            data.loc[i, 'comPos_len'] = len(data.loc[i, 'commentPositive'])\n",
    "        except TypeError:\n",
    "            data.loc[i, 'comPos_len'] = 0\n",
    "            \n",
    "        try:\n",
    "            data.loc[i, 'comNeg_len'] = len(data.loc[i, 'commentNegative'])\n",
    "        except TypeError:\n",
    "            data.loc[i, 'comNeg_len'] = 0\n",
    "            \n",
    "        data.loc[i, 'nCapital'] = len(re.findall(\"[A-Z]\", data.loc[i, 'comment']))\n",
    "        \n",
    "        try:\n",
    "            data.loc[i, 'nCapitalPos'] = len(re.findall(\"[A-Z]\", data.loc[i, 'commentPositive']))\n",
    "        except TypeError:\n",
    "            data.loc[i, 'nCapitalPos'] = 0\n",
    "            \n",
    "        try:\n",
    "            data.loc[i, 'nCapitalNeg'] = len(re.findall(\"[A-Z]\", data.loc[i, 'commentNegative']))\n",
    "        except TypeError:\n",
    "            data.loc[i, 'nCapitalNeg'] = 0\n",
    "        \n",
    "        try:\n",
    "            if math.isnan(data.commentNegative[i]):\n",
    "                data.loc[i, 'hasNegComment'] = 0\n",
    "        except TypeError:\n",
    "            data.loc[i, 'comment'] = data.loc[i, 'comment'] + ' ' + data.loc[i, 'commentNegative']\n",
    "            data.loc[i, 'hasNegComment'] = 1\n",
    "        \n",
    "        try:\n",
    "            if math.isnan(data.commentPositive[i]):\n",
    "                data.loc[i, 'hasPosComment'] = 0\n",
    "        except TypeError:\n",
    "            data.loc[i, 'comment'] = data.comment[i] + ' ' + data.commentPositive[i]\n",
    "            data.loc[i, 'hasPosComment'] = 1\n",
    "        \n",
    "        data.loc[i, 'n_of_exc'] = data.loc[i, 'comment'].count('!')\n",
    "\n",
    "    return data.drop(['commentNegative', 'commentPositive'], axis=1)\n",
    "\n",
    "morph = MorphAnalyzer()\n",
    "mystopwords = list(set(stopwords.words('russian')) - set(['много','без','никогда' , 'совсем' , 'не', 'нет', 'более','больше',  'ничего', \"но\", \"хорошо\", \"лучше\"])) + ['это',\"х\",\"р\", \"тыс\", \"тыщ\", \"руб\"] \n",
    "\n",
    "def parse_sentence(sent):\n",
    "    sent = sent.replace('...', ' ')\n",
    "    sent = sent.replace('-', ' ')\n",
    "    sent = sent.replace('/', ' ')\n",
    "    exclude = set(punctuation + '0123456789'+u'–—'+u'«»')\n",
    "    merged_text = ''.join(ch for ch in sent if ch not in exclude)\n",
    "    tokens = WhitespaceTokenizer().tokenize(merged_text.lower())\n",
    "    tokens = [t_ for t_ in tokens if t_ not in mystopwords]\n",
    "    tokens = [morph.parse(word)[0].normal_form for word in tokens]\n",
    "    return ' '.join(ch for ch in tokens)\n",
    "\n",
    "df = pd.read_csv('X_train.csv').drop(['userName', 'property', 'date'], axis=1)\n",
    "df = merge_com(df)\n",
    "df['parsed'] = df.comment.apply(parse_sentence)\n",
    "df = df.drop(['comment'], axis=1)\n",
    "df.reting = df.reting.apply(round)\n",
    "\n"
   ]
  },
  {
   "cell_type": "code",
   "execution_count": null,
   "metadata": {
    "collapsed": true
   },
   "outputs": [],
   "source": [
    "def merge_com(data):\n",
    "    data = data.copy()\n",
    "    for i in range(data.shape[0]):\n",
    "        data.loc[i, 'com_len'] = len(data.loc[i, 'comment'])\n",
    "        \n",
    "        try:\n",
    "            data.loc[i, 'comPos_len'] = len(data.loc[i, 'commentPositive'])\n",
    "        except TypeError:\n",
    "            data.loc[i, 'comPos_len'] = 0\n",
    "            \n",
    "        try:\n",
    "            data.loc[i, 'comNeg_len'] = len(data.loc[i, 'commentNegative'])\n",
    "        except TypeError:\n",
    "            data.loc[i, 'comNeg_len'] = 0\n",
    "            \n",
    "        data.loc[i, 'nCapital'] = len(re.findall(\"[A-Z]\", data.loc[i, 'comment']))\n",
    "        \n",
    "        try:\n",
    "            data.loc[i, 'nCapitalPos'] = len(re.findall(\"[A-Z]\", data.loc[i, 'commentPositive']))\n",
    "        except TypeError:\n",
    "            data.loc[i, 'nCapitalPos'] = 0\n",
    "            \n",
    "        try:\n",
    "            data.loc[i, 'nCapitalNeg'] = len(re.findall(\"[A-Z]\", data.loc[i, 'commentNegative']))\n",
    "        except TypeError:\n",
    "            data.loc[i, 'nCapitalNeg'] = 0\n",
    "        \n",
    "        try:\n",
    "            if math.isnan(data.commentNegative[i]):\n",
    "                data.loc[i, 'hasNegComment'] = 0\n",
    "        except TypeError:\n",
    "            data.loc[i, 'comment'] = data.loc[i, 'comment'] + ' ' + data.loc[i, 'commentNegative']\n",
    "            data.loc[i, 'hasNegComment'] = 1\n",
    "        \n",
    "        try:\n",
    "            if math.isnan(data.commentPositive[i]):\n",
    "                data.loc[i, 'hasPosComment'] = 0\n",
    "        except TypeError:\n",
    "            data.loc[i, 'comment'] = data.comment[i] + ' ' + data.commentPositive[i]\n",
    "            data.loc[i, 'hasPosComment'] = 1\n",
    "        \n",
    "        data.loc[i, 'n_of_exc'] = data.loc[i, 'comment'].count('!')\n",
    "\n",
    "    return data.drop(['commentNegative', 'commentPositive'], axis=1)\n",
    "\n",
    "morph = MorphAnalyzer()\n",
    "mystopwords = list(set(stopwords.words('russian')) - set(['много','без','никогда' , 'совсем' , 'не', 'нет', 'более','больше',  'ничего', \"но\", \"хорошо\", \"лучше\"])) + ['это',\"х\",\"р\", \"тыс\", \"тыщ\", \"руб\"] \n",
    "\n",
    "def parse_sentence(sent):\n",
    "    sent = sent.replace('...', ' ')\n",
    "    sent = sent.replace('-', ' ')\n",
    "    sent = sent.replace('/', ' ')\n",
    "    exclude = set(punctuation + '0123456789'+u'–—'+u'«»')\n",
    "    merged_text = ''.join(ch for ch in sent if ch not in exclude)\n",
    "    tokens = WhitespaceTokenizer().tokenize(merged_text.lower())\n",
    "    tokens = [t_ for t_ in tokens if t_ not in mystopwords]\n",
    "    tokens = [morph.parse(word)[0].normal_form for word in tokens]\n",
    "    return ' '.join(ch for ch in tokens)"
   ]
  },
  {
   "cell_type": "code",
   "execution_count": null,
   "metadata": {
    "collapsed": true
   },
   "outputs": [],
   "source": [
    "df = pd.read_csv('X_train.csv').drop(['userName', 'property', 'date'], axis=1)\n",
    "df = merge_com(df)\n",
    "df['parsed'] = df.comment.apply(parse_sentence)\n",
    "df = df.drop(['comment'], axis=1)\n",
    "df.reting = df.reting.apply(round)"
   ]
  },
  {
   "cell_type": "code",
   "execution_count": 6,
   "metadata": {
    "collapsed": false
   },
   "outputs": [],
   "source": [
    "X_train, X_test, y_train, y_test = train_test_split(df.drop(['reting'], axis=1), \n",
    "                                                    df['reting'], test_size=0.33)"
   ]
  },
  {
   "cell_type": "code",
   "execution_count": 7,
   "metadata": {
    "collapsed": false
   },
   "outputs": [],
   "source": [
    "tfidf = TfidfVectorizer(analyzer = 'word', \n",
    "                        lowercase= False, \n",
    "                        ngram_range=(1,3), \n",
    "                        min_df=5,\n",
    "                        max_features = 1000).fit(X_train['parsed'])"
   ]
  },
  {
   "cell_type": "code",
   "execution_count": 8,
   "metadata": {
    "collapsed": false
   },
   "outputs": [],
   "source": [
    "tfidf_train = tfidf.transform(X_train['parsed'])\n",
    "tfidf_test = tfidf.transform(X_test['parsed'])\n",
    "\n",
    "add_train = np.array(X_train[['com_len', 'comPos_len', 'comNeg_len','brandId', 'nCapital', 'hasNegComment', 'hasPosComment', 'n_of_exc']])\n",
    "add_test = np.array(X_test[['com_len', 'comPos_len', 'comNeg_len','brandId', 'nCapital', 'hasNegComment', 'hasPosComment', 'n_of_exc']])\n",
    "\n",
    "X_train = hstack([tfidf_train, coo_matrix(add_train)])\n",
    "X_test = hstack([tfidf_test, coo_matrix(add_test)])\n",
    "\n",
    "scaler = preprocessing.StandardScaler(with_mean=False).fit(X_train)\n",
    "X_train = scaler.transform(X_train)\n",
    "X_test = scaler.transform(X_test)"
   ]
  },
  {
   "cell_type": "code",
   "execution_count": null,
   "metadata": {
    "collapsed": true
   },
   "outputs": [],
   "source": [
    "clf = SVC(C = 1.0, kernel = 'linear').fit(X_train, np.array(y_train))"
   ]
  },
  {
   "cell_type": "code",
   "execution_count": null,
   "metadata": {
    "collapsed": true
   },
   "outputs": [],
   "source": [
    "print(clf.score(X_test, np.array(y_test)))"
   ]
  },
  {
   "cell_type": "code",
   "execution_count": null,
   "metadata": {
    "collapsed": true
   },
   "outputs": [],
   "source": []
  },
  {
   "cell_type": "code",
   "execution_count": null,
   "metadata": {
    "collapsed": true
   },
   "outputs": [],
   "source": [
    "from sklearn.metrics import confusion_matrix\n",
    "from sklearn.metrics import accuracy_score, precision_score, f1_score, roc_auc_score\n",
    "import itertools\n",
    "\n",
    "def plot_confusion_matrix(cm, classes,\n",
    "                          normalize=False,\n",
    "                          title='Confusion matrix',\n",
    "                          cmap=plt.cm.Blues):\n",
    "    plt.imshow(cm, interpolation='nearest', cmap=cmap)\n",
    "    plt.title(title)\n",
    "    plt.colorbar()\n",
    "    tick_marks = np.arange(len(classes))\n",
    "    plt.xticks(tick_marks, classes, rotation=45)\n",
    "    plt.yticks(tick_marks, classes)\n",
    "\n",
    "    thresh = cm.max() / 2.\n",
    "    for i, j in itertools.product(range(cm.shape[0]), range(cm.shape[1])):\n",
    "        plt.text(j, i, cm[i, j],\n",
    "                 horizontalalignment=\"center\",\n",
    "                 color=\"white\" if cm[i, j] > thresh else \"black\")\n",
    "\n",
    "    plt.tight_layout()\n",
    "    plt.ylabel('True label')\n",
    "    plt.xlabel('Predicted label')"
   ]
  },
  {
   "cell_type": "code",
   "execution_count": null,
   "metadata": {
    "collapsed": true
   },
   "outputs": [],
   "source": [
    "tfidf = TfidfVectorizer(min_df=5, ngram_range=(1,3)).fit(X_train['parsed'])"
   ]
  },
  {
   "cell_type": "code",
   "execution_count": null,
   "metadata": {
    "collapsed": true
   },
   "outputs": [],
   "source": [
    "clf = SVC(C = 1.0, kernel = 'linear')"
   ]
  }
 ],
 "metadata": {
  "kernelspec": {
   "display_name": "Python 3",
   "language": "python",
   "name": "python3"
  },
  "language_info": {
   "codemirror_mode": {
    "name": "ipython",
    "version": 3
   },
   "file_extension": ".py",
   "mimetype": "text/x-python",
   "name": "python",
   "nbconvert_exporter": "python",
   "pygments_lexer": "ipython3",
   "version": "3.6.0"
  }
 },
 "nbformat": 4,
 "nbformat_minor": 2
}
